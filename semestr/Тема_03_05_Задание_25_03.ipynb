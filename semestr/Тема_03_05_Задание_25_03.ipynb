{
  "cells": [
    {
      "cell_type": "markdown",
      "id": "8cf68337",
      "metadata": {
        "id": "8cf68337"
      },
      "source": [
        "## Задание 1.\n",
        "\n",
        "Прочитать данные\n",
        "`https://raw.githubusercontent.com/yakushinav/omo/main/data/movies.csv`\n",
        "\n",
        "Имена столбцов\n",
        "```\n",
        "['color', 'director_name', 'num_critic_for_reviews', 'duration',\n",
        "                'gross', 'movie_title', 'num_user_for_reviews', 'country',\n",
        "                'cotent_rating', 'budget', 'title_year', 'imdb_score', 'genre']\n",
        "```"
      ]
    },
    {
      "cell_type": "code",
      "source": [
        "import pandas as pd"
      ],
      "metadata": {
        "id": "9HZvcJPMJp5n"
      },
      "id": "9HZvcJPMJp5n",
      "execution_count": 2,
      "outputs": []
    },
    {
      "cell_type": "code",
      "execution_count": 3,
      "id": "3df68271",
      "metadata": {
        "colab": {
          "base_uri": "https://localhost:8080/"
        },
        "id": "3df68271",
        "outputId": "0db97947-41c3-4810-90a8-4a2e37966b95"
      },
      "outputs": [
        {
          "output_type": "stream",
          "name": "stdout",
          "text": [
            "   color      director_name  num_critic_for_reviews  duration        gross  \\\n",
            "0  Color      James Cameron                   723.0     178.0  760505847.0   \n",
            "1  Color     Gore Verbinski                   302.0     169.0  309404152.0   \n",
            "2  Color         Sam Mendes                   602.0     148.0  200074175.0   \n",
            "3  Color  Christopher Nolan                   813.0     164.0  448130642.0   \n",
            "4    NaN        Doug Walker                     NaN       NaN          NaN   \n",
            "\n",
            "                                         movie_title  num_user_for_reviews  \\\n",
            "0                                            Avatar                 3054.0   \n",
            "1          Pirates of the Caribbean: At World's End                 1238.0   \n",
            "2                                           Spectre                  994.0   \n",
            "3                             The Dark Knight Rises                 2701.0   \n",
            "4  Star Wars: Episode VII - The Force Awakens    ...                   NaN   \n",
            "\n",
            "  country cotent_rating       budget  title_year  imdb_score        genre  \n",
            "0     USA         PG-13  237000000.0      2009.0         7.9       Action  \n",
            "1     USA         PG-13  300000000.0      2007.0         7.1       Action  \n",
            "2      UK         PG-13  245000000.0      2015.0         6.8       Action  \n",
            "3     USA         PG-13  250000000.0      2012.0         8.5       Action  \n",
            "4     NaN           NaN          NaN         NaN         7.1  Documentary  \n",
            "<class 'pandas.core.frame.DataFrame'>\n",
            "RangeIndex: 100 entries, 0 to 99\n",
            "Data columns (total 13 columns):\n",
            " #   Column                  Non-Null Count  Dtype  \n",
            "---  ------                  --------------  -----  \n",
            " 0   color                   99 non-null     object \n",
            " 1   director_name           100 non-null    object \n",
            " 2   num_critic_for_reviews  99 non-null     float64\n",
            " 3   duration                99 non-null     float64\n",
            " 4   gross                   97 non-null     float64\n",
            " 5   movie_title             100 non-null    object \n",
            " 6   num_user_for_reviews    99 non-null     float64\n",
            " 7   country                 99 non-null     object \n",
            " 8   cotent_rating           98 non-null     object \n",
            " 9   budget                  96 non-null     float64\n",
            " 10  title_year              99 non-null     float64\n",
            " 11  imdb_score              100 non-null    float64\n",
            " 12  genre                   100 non-null    object \n",
            "dtypes: float64(7), object(6)\n",
            "memory usage: 10.3+ KB\n",
            "None\n"
          ]
        }
      ],
      "source": [
        "csv_url=\"https://raw.githubusercontent.com/yakushinav/omo/main/data/movies.csv\"\n",
        "columns=['color', 'director_name', 'num_critic_for_reviews', 'duration',\n",
        "                'gross', 'movie_title', 'num_user_for_reviews', 'country',\n",
        "                'cotent_rating', 'budget', 'title_year', 'imdb_score', 'genre']\n",
        "df=pd.read_csv(csv_url, sep=\"|\", header=None, names=columns, na_values=['', ' ', '?', '-'], thousands=',')\n",
        "print(df.head())\n",
        "print(df.info())"
      ]
    },
    {
      "cell_type": "markdown",
      "source": [
        "  Как мы можем видеть, данные, содержащиеся в колонке \"content_rating\" остались в типе object, как и данные в колонке \"title_year\" представляют тип float64, которые уже не поддаются смене типа, поскольку для начала нужно избавить датасет от содержащихся в нем пустых строк."
      ],
      "metadata": {
        "id": "CF2x_EKYJ0gR"
      },
      "id": "CF2x_EKYJ0gR"
    },
    {
      "cell_type": "markdown",
      "id": "161f36f5",
      "metadata": {
        "id": "161f36f5"
      },
      "source": [
        "## Задание 2\n",
        "\n",
        "Прочитать данные `https://raw.githubusercontent.com/yakushinav/omo/main/data/playstore.xlsx`.\n",
        "\n",
        "Для столбца `Last_Updated` установить формат `дата_и_время`."
      ]
    },
    {
      "cell_type": "code",
      "execution_count": 10,
      "id": "c6e1d0b3",
      "metadata": {
        "id": "c6e1d0b3",
        "colab": {
          "base_uri": "https://localhost:8080/"
        },
        "outputId": "d982f097-c8f1-4962-a3fb-60e08108d0b5"
      },
      "outputs": [
        {
          "output_type": "stream",
          "name": "stdout",
          "text": [
            "   Unnamed: 0                                                App  \\\n",
            "0           0     Photo Editor & Candy Camera & Grid & ScrapBook   \n",
            "1           1                                Coloring book moana   \n",
            "2           2  U Launcher Lite – FREE Live Cool Themes, Hide ...   \n",
            "3           3                              Sketch - Draw & Paint   \n",
            "4           4              Pixel Draw - Number Art Coloring Book   \n",
            "\n",
            "         Category  Rating     Installs  Type Price  Content_ID  \\\n",
            "0  ART_AND_DESIGN     4.1      10,000+  Free     0         101   \n",
            "1  ART_AND_DESIGN     3.9     500,000+  Free     0         101   \n",
            "2  ART_AND_DESIGN     4.7   5,000,000+  Free     0         101   \n",
            "3  ART_AND_DESIGN     4.5  50,000,000+  Free     0         102   \n",
            "4  ART_AND_DESIGN     4.3     100,000+  Free     0         101   \n",
            "\n",
            "                      Genres Last_Updated  \n",
            "0               Art & Design   2018-01-07  \n",
            "1  Art & Design;Pretend Play   2018-01-15  \n",
            "2               Art & Design   2018-08-01  \n",
            "3               Art & Design   2018-06-08  \n",
            "4    Art & Design;Creativity   2018-06-20  \n",
            "<class 'pandas.core.frame.DataFrame'>\n",
            "RangeIndex: 250 entries, 0 to 249\n",
            "Data columns (total 10 columns):\n",
            " #   Column        Non-Null Count  Dtype         \n",
            "---  ------        --------------  -----         \n",
            " 0   Unnamed: 0    250 non-null    int64         \n",
            " 1   App           250 non-null    object        \n",
            " 2   Category      250 non-null    object        \n",
            " 3   Rating        239 non-null    float64       \n",
            " 4   Installs      250 non-null    object        \n",
            " 5   Type          250 non-null    object        \n",
            " 6   Price         250 non-null    object        \n",
            " 7   Content_ID    250 non-null    int64         \n",
            " 8   Genres        250 non-null    object        \n",
            " 9   Last_Updated  250 non-null    datetime64[ns]\n",
            "dtypes: datetime64[ns](1), float64(1), int64(2), object(6)\n",
            "memory usage: 19.7+ KB\n",
            "None\n"
          ]
        }
      ],
      "source": [
        "xlsx_url=\"https://raw.githubusercontent.com/yakushinav/omo/main/data/playstore.xlsx\"\n",
        "df=pd.read_excel(xlsx_url)\n",
        "df['Last_Updated'] = pd.to_datetime(df['Last_Updated'])\n",
        "print(df.head())\n",
        "print(df.info())"
      ]
    },
    {
      "cell_type": "markdown",
      "id": "7fd01ac2",
      "metadata": {
        "id": "7fd01ac2"
      },
      "source": [
        "## Задание 3\n",
        "\n",
        "Прочитать данные `https://raw.githubusercontent.com/yakushinav/omo/main/data/artists.json`.\n",
        "\n",
        "Выполнить сохранение в формат CSV. Прочитать полученный файл. Сравнить с исходным.\n"
      ]
    },
    {
      "cell_type": "code",
      "execution_count": 14,
      "id": "f47b3c1c",
      "metadata": {
        "id": "f47b3c1c",
        "colab": {
          "base_uri": "https://localhost:8080/"
        },
        "outputId": "6c53e0aa-bddb-4df6-cb08-598fc621ec8d"
      },
      "outputs": [
        {
          "output_type": "stream",
          "name": "stdout",
          "text": [
            "Обнаружены различия!\n",
            "\n",
            "Различия:\n",
            "                                                 bio  \\\n",
            "                                                self   \n",
            "0  [{'full name': 'Amedeo Clemente Modigliani', '...   \n",
            "1  [{'full name': 'Wassily Wassilyevich Kandinsky...   \n",
            "2  [{'full name': 'Diego María de la Concepción J...   \n",
            "3  [{'full name': 'Oscar-Claude Monet', 'pronunci...   \n",
            "4  [{'full name': 'René François Ghislain Magritt...   \n",
            "\n",
            "                                                      \n",
            "                                               other  \n",
            "0  [{'full name': 'Amedeo Clemente Modigliani', '...  \n",
            "1  [{'full name': 'Wassily Wassilyevich Kandinsky...  \n",
            "2  [{'full name': 'Diego María de la Concepción J...  \n",
            "3  [{'full name': 'Oscar-Claude Monet', 'pronunci...  \n",
            "4  [{'full name': 'René François Ghislain Magritt...  \n"
          ]
        }
      ],
      "source": [
        "json_url=\"https://raw.githubusercontent.com/yakushinav/omo/main/data/artists.json\"\n",
        "df_json=pd.read_json(json_url)\n",
        "csv_file = \"artists.csv\"\n",
        "df_json.to_csv(csv_file, index=False)\n",
        "df_csv = pd.read_csv(csv_file)\n",
        "\n",
        "# 4. Сравнение\n",
        "if df_json.equals(df_csv):\n",
        "    print(\"Данные идентичны.\")\n",
        "else:\n",
        "    print(\"Обнаружены различия!\")\n",
        "    print(\"\\nРазличия:\")\n",
        "    print(df_json.compare(df_csv))"
      ]
    }
  ],
  "metadata": {
    "kernelspec": {
      "display_name": "Python 3 (ipykernel)",
      "language": "python",
      "name": "python3"
    },
    "language_info": {
      "codemirror_mode": {
        "name": "ipython",
        "version": 3
      },
      "file_extension": ".py",
      "mimetype": "text/x-python",
      "name": "python",
      "nbconvert_exporter": "python",
      "pygments_lexer": "ipython3",
      "version": "3.9.13"
    },
    "colab": {
      "provenance": []
    }
  },
  "nbformat": 4,
  "nbformat_minor": 5
}