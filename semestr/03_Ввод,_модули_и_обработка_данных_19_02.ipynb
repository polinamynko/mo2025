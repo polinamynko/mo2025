{
  "cells": [
    {
      "cell_type": "markdown",
      "id": "8f85e9d3",
      "metadata": {
        "id": "8f85e9d3"
      },
      "source": [
        "# 03 Ввод данных. input()"
      ]
    },
    {
      "cell_type": "markdown",
      "id": "cc58dfa3",
      "metadata": {
        "id": "cc58dfa3"
      },
      "source": [
        "Познакомимся с функцией input() - ввод. Это функция позволяет нам просить\n",
        "пользователя что-нибудь ввести или принять на ввод какие-то данные."
      ]
    },
    {
      "cell_type": "code",
      "execution_count": null,
      "id": "3698fa45",
      "metadata": {
        "scrolled": true,
        "id": "3698fa45",
        "colab": {
          "base_uri": "https://localhost:8080/"
        },
        "outputId": "35ca91c2-b874-4d77-fc67-e64e697eeb4f"
      },
      "outputs": [
        {
          "output_type": "stream",
          "name": "stdout",
          "text": [
            "Как вас зовут? Полина\n",
            "Полина\n"
          ]
        }
      ],
      "source": [
        "x = input('Как вас зовут? ')\n",
        "print(x)"
      ]
    },
    {
      "cell_type": "markdown",
      "id": "2e60102b",
      "metadata": {
        "id": "2e60102b"
      },
      "source": [
        "'Как вас зовут?' - аргумент функции input(), который будет отображаться в строке ввода. Он необязателен, но он может быть полезен для вас (особенно, если в задаче требуется ввести больше одной строки данных и нужно не запутаться).\n",
        "\n",
        "Обратите внимание, что функция  input() все сохраняет в строковом формате данных. Но мы можем сделать из\n",
        "числа-строки число-число с помощью функции int(). Введите \"1\" в обоих случаях и сравните результат."
      ]
    },
    {
      "cell_type": "code",
      "execution_count": null,
      "id": "450ca3c0",
      "metadata": {
        "id": "450ca3c0",
        "colab": {
          "base_uri": "https://localhost:8080/"
        },
        "outputId": "27ef93c7-a3e9-4e18-c995-1d8754657946"
      },
      "outputs": [
        {
          "output_type": "stream",
          "name": "stdout",
          "text": [
            "1\n",
            "<class 'str'>\n",
            "1\n",
            "<class 'int'>\n"
          ]
        }
      ],
      "source": [
        "print(type(input()))\n",
        "print(type(int(input())))"
      ]
    },
    {
      "cell_type": "markdown",
      "id": "d6194b8e",
      "metadata": {
        "id": "d6194b8e"
      },
      "source": [
        "Нужно следить за тем, какие данные вы считываете и менять их при необходимости. Сравните два примере ниже."
      ]
    },
    {
      "cell_type": "code",
      "execution_count": null,
      "id": "0888dc6c",
      "metadata": {
        "colab": {
          "base_uri": "https://localhost:8080/"
        },
        "id": "0888dc6c",
        "outputId": "10459d8a-6e32-4c30-abd9-16ee4837d3f3"
      },
      "outputs": [
        {
          "output_type": "stream",
          "name": "stdout",
          "text": [
            "Input x value: 4\n",
            "Input y value: 2\n",
            "42\n"
          ]
        }
      ],
      "source": [
        "x = input('Input x value: ')\n",
        "y = input('Input y value: ')\n",
        "print(x + y) # произошла склейка строк, по умолчанию input() сохраняет значение типа str"
      ]
    },
    {
      "cell_type": "code",
      "execution_count": null,
      "id": "9a993185",
      "metadata": {
        "colab": {
          "base_uri": "https://localhost:8080/"
        },
        "id": "9a993185",
        "outputId": "aa91257d-5e44-4b0f-db00-fbabef5219c6"
      },
      "outputs": [
        {
          "output_type": "stream",
          "name": "stdout",
          "text": [
            "Input x value: 4\n",
            "Input y value: 2\n",
            "6\n"
          ]
        }
      ],
      "source": [
        "x = int(input('Input x value: '))\n",
        "y = int(input('Input y value: '))\n",
        "print(x + y) # вот теперь произошло сложение чисел"
      ]
    },
    {
      "cell_type": "markdown",
      "id": "2a001194",
      "metadata": {
        "id": "2a001194"
      },
      "source": [
        "## Задача 1. Pig Latin 1\n",
        "\n",
        "Pig Latin - вымышленный язык, который в конец каждого слова подставляет 'yay' (на самом деле оригинальные условия задачи несколько хитрее, но мы будем к ней возвращаться по ходу курса.\n",
        "\n",
        "**Формат ввода**  \n",
        "Пользователь вводит слова.\n",
        "\n",
        "**Формат вывода**\n",
        "Слово на Pig Latin.\n",
        "\n",
        "\n",
        "#### Примеры\n",
        "Тест 1  \n",
        "**Ввод:**  \n",
        "apple\n",
        "\n",
        "**Вывод:**  \n",
        "appleyay"
      ]
    },
    {
      "cell_type": "code",
      "execution_count": null,
      "id": "f3e532fa",
      "metadata": {
        "colab": {
          "base_uri": "https://localhost:8080/"
        },
        "id": "f3e532fa",
        "outputId": "dc6dc6cf-ac7c-43c8-94f3-be0626b738c4"
      },
      "outputs": [
        {
          "output_type": "stream",
          "name": "stdout",
          "text": [
            "Введите слово: Knight\n",
            "Knightyay\n"
          ]
        }
      ],
      "source": [
        "word = input('Введите слово: ')\n",
        "print(word+'yay')"
      ]
    },
    {
      "cell_type": "markdown",
      "id": "ea45a103",
      "metadata": {
        "id": "ea45a103"
      },
      "source": [
        "## Задача 2. Как перевести градусы Цельсия в градусы Фаренгейта\n",
        "Чтобы при помощи Python перевести градусы Цельсия в градусы Фаренгейта (или наоборот), необходимо реализовать в коде следующие формулы:\n",
        "\n",
        "Градусы Цельсия в градусы Фаренгейта:\n",
        "F = 1.8 x C + 32\n",
        "\n",
        "Градусы Фаренгейта в градусы Цельсия:\n",
        "C = (F - 32) / 1.8"
      ]
    },
    {
      "cell_type": "code",
      "execution_count": null,
      "id": "a8045be4",
      "metadata": {
        "id": "a8045be4",
        "colab": {
          "base_uri": "https://localhost:8080/"
        },
        "outputId": "331e8469-79d2-4912-8b92-d13a8a725e5b"
      },
      "outputs": [
        {
          "output_type": "stream",
          "name": "stdout",
          "text": [
            "Give me a temperature in celcius: 26\n",
            "The temperature is  79  in fahrenheit\n"
          ]
        }
      ],
      "source": [
        "# Запросить пользовательский ввод (температуру в градусах Цельсия)\n",
        "c = float(input(\"Give me a temperature in celcius: \"))\n",
        "\n",
        "# Преобразовать значение, введенное пользователем, в градусы Фаренгейта\n",
        "f = round(1.8 * c + 32)\n",
        "\n",
        "# Вывести результат\n",
        "print(\"The temperature is \", f,\" in fahrenheit\")"
      ]
    },
    {
      "cell_type": "code",
      "execution_count": null,
      "id": "aeea655a",
      "metadata": {
        "colab": {
          "base_uri": "https://localhost:8080/"
        },
        "id": "aeea655a",
        "outputId": "ad0685a1-06da-4af2-8748-46cc546f6957"
      },
      "outputs": [
        {
          "output_type": "stream",
          "name": "stdout",
          "text": [
            "Give me a temperature in fahrenheit: 26\n",
            "The temperature is  -3  in celcius\n"
          ]
        }
      ],
      "source": [
        "# Здесь напишите программу для преобразования градусов Фаренгейта в градусы Цельсия\n",
        "\n",
        "# Запрос на пользовательский ввод (температуру в градусах Фаренгейта)\n",
        "f = float(input(\"Give me a temperature in fahrenheit: \"))\n",
        "\n",
        "# Преобразование значения, введенного пользователем, в градусы Цельсия\n",
        "с = round((f - 32) / 1.8)\n",
        "\n",
        "# Вывод результата\n",
        "print(\"The temperature is \", с,\" in celcius\")"
      ]
    },
    {
      "cell_type": "markdown",
      "id": "8f28db59",
      "metadata": {
        "id": "8f28db59"
      },
      "source": [
        "## Импорт модулей\n",
        "По мере количества строк вашего кода будет не лишним начинать пользоваться модулями.\n",
        "\n",
        "Модуль — это файл, содержащий функции и операторы. У всех модулей в Python есть имя, которое заканчивается расширением .py.\n",
        "\n",
        "Операторы внутри модуля могут быть импортированы в другой модуль или в интерпретатор Python. Для этого мы используем ключевое слово import.\n",
        "\n",
        "Например, мы можем импортировать модуль math. Делается это следующим образом:\n",
        "\n",
        "`import math`"
      ]
    },
    {
      "cell_type": "code",
      "execution_count": null,
      "id": "abba2114",
      "metadata": {
        "id": "abba2114",
        "colab": {
          "base_uri": "https://localhost:8080/"
        },
        "outputId": "f89cf479-425a-4eba-c336-83090cc7113c"
      },
      "outputs": [
        {
          "output_type": "stream",
          "name": "stdout",
          "text": [
            "3.141592653589793\n"
          ]
        }
      ],
      "source": [
        "import math\n",
        "print(math.pi)"
      ]
    },
    {
      "cell_type": "markdown",
      "id": "0a0506bf",
      "metadata": {
        "id": "0a0506bf"
      },
      "source": [
        "## Модуль random\n",
        "Модуль random позволяет генерировать случайные числа. Прежде чем использовать модуль, необходимо подключить его\n",
        "\n",
        "`import random`"
      ]
    },
    {
      "cell_type": "markdown",
      "id": "cf95f26e",
      "metadata": {
        "id": "cf95f26e"
      },
      "source": [
        "## randint\n",
        "\n",
        "Функция randint(a, b) получает на вход два целых числа и возвращает случайное значение из диапазона [a,b]    (a и b входят в этот диапазон).\n"
      ]
    },
    {
      "cell_type": "code",
      "execution_count": null,
      "id": "15d2a919",
      "metadata": {
        "colab": {
          "base_uri": "https://localhost:8080/"
        },
        "id": "15d2a919",
        "outputId": "c4f1477d-5032-42f3-9494-0d709fdb9b6d"
      },
      "outputs": [
        {
          "output_type": "stream",
          "name": "stdout",
          "text": [
            "56\n"
          ]
        }
      ],
      "source": [
        "import random\n",
        "\n",
        "random_number = random.randint(0, 125)\n",
        "print(random_number)"
      ]
    },
    {
      "cell_type": "markdown",
      "id": "984611ba",
      "metadata": {
        "id": "984611ba"
      },
      "source": [
        "## randrange\n",
        "\n",
        "В функцию randrange(start, stop[, step]) передают три целых числа:\n",
        "\n",
        "start\n",
        " – начало диапазона (входит в последовательность);\n",
        "\n",
        "stop\n",
        " – конец диапазона (в последовательность не входит);\n",
        "\n",
        "step\n",
        " – шаг генерации (если на его месте написать 0, получим ошибку \"ValueError\").\n",
        "\n",
        "На выходе функция выдает случайное число в заданном диапазоне"
      ]
    },
    {
      "cell_type": "code",
      "execution_count": null,
      "id": "903cde2b",
      "metadata": {
        "colab": {
          "base_uri": "https://localhost:8080/"
        },
        "id": "903cde2b",
        "outputId": "10addd75-e238-44a0-bb56-a4b75b1d6838"
      },
      "outputs": [
        {
          "output_type": "stream",
          "name": "stdout",
          "text": [
            "13\n"
          ]
        }
      ],
      "source": [
        "import random\n",
        "\n",
        "random_number = random.randrange(1, 100, 2)\n",
        "print(random_number)"
      ]
    },
    {
      "cell_type": "markdown",
      "id": "9c2e9ce0",
      "metadata": {
        "id": "9c2e9ce0"
      },
      "source": [
        "## random\n",
        "\n",
        "Функция  random()  выдает вещественные числа, в диапазоне [0.0, 1.0)\n",
        "\n",
        " (включая 0.0, но не включая 1.0)."
      ]
    },
    {
      "cell_type": "code",
      "execution_count": null,
      "id": "2b716608",
      "metadata": {
        "colab": {
          "base_uri": "https://localhost:8080/"
        },
        "id": "2b716608",
        "outputId": "e926f7b9-0bc9-42b7-e6a5-87b5ea42b3ef"
      },
      "outputs": [
        {
          "output_type": "stream",
          "name": "stdout",
          "text": [
            "0.13160873013700614\n"
          ]
        }
      ],
      "source": [
        "import random\n",
        "\n",
        "random_number = random.random()\n",
        "print(random_number)"
      ]
    },
    {
      "cell_type": "markdown",
      "id": "8d4f5f10",
      "metadata": {
        "id": "8d4f5f10"
      },
      "source": [
        "## Задача 3. Как перевести случайные градусы Цельсия в градусы Фаренгейта.\n",
        "\n",
        "Сделайте снова перевод градусов Цельсия в Фаренгейт, только теперь не запрашивайте градусы с клавиатуры, а сгенерируйте случайно в диапазоне [-50, 42]"
      ]
    },
    {
      "cell_type": "code",
      "execution_count": null,
      "id": "39f06ca3",
      "metadata": {
        "id": "39f06ca3",
        "colab": {
          "base_uri": "https://localhost:8080/"
        },
        "outputId": "85adbfdc-2caf-4f3b-9f51-1e86b95a3c64"
      },
      "outputs": [
        {
          "output_type": "stream",
          "name": "stdout",
          "text": [
            "A temperature in celcius: -2\n",
            "The temperature is  28.4  in fahrenheit\n"
          ]
        }
      ],
      "source": [
        "import random\n",
        "\n",
        "# генерирование случайного значения температуры в градусах Цельсия)\n",
        "c = random.randint(-50, 42)\n",
        "print(\"A temperature in celcius:\", c)\n",
        "\n",
        "# преобразование случайного значения, из указанного выше диапазона, в градусы Фаренгейта\n",
        "f = 1.8 * c + 32\n",
        "\n",
        "# вывод ррезультата\n",
        "print(\"The temperature is \", f,\" in fahrenheit\")"
      ]
    },
    {
      "cell_type": "markdown",
      "id": "06be6026",
      "metadata": {
        "id": "06be6026"
      },
      "source": [
        "# Задание 1\n",
        "\n",
        "Карандаш стоит X рублей за штуку. Покупатель дал кассиру Y рублей и хочет купить 8 карандашей. Какую сдачу он должен получить? Ответ дайте в рублях. (X и Y запросить у пользователя)\n"
      ]
    },
    {
      "cell_type": "code",
      "execution_count": null,
      "id": "287d09ee",
      "metadata": {
        "id": "287d09ee",
        "colab": {
          "base_uri": "https://localhost:8080/"
        },
        "outputId": "9334f352-3d65-4b17-8535-9a918be555ed"
      },
      "outputs": [
        {
          "output_type": "stream",
          "name": "stdout",
          "text": [
            "Введите стоимость одного карандаша (в рублях): 30\n",
            "Введите сумму, которую вы дали кассиру (в рублях): 600\n",
            "Сдача, которую вы должны получить: 360 рублей.\n"
          ]
        }
      ],
      "source": [
        "# Запрашиваем у пользователя стоимость одного карандаша\n",
        "x = int(input(\"Введите стоимость одного карандаша (в рублях): \"))\n",
        "\n",
        "# Запрашиваем у пользователя сумму, которую он дал кассиру\n",
        "y = int(input(\"Введите сумму, которую вы дали кассиру (в рублях): \"))\n",
        "\n",
        "# Количество карандашей\n",
        "quantity = 8\n",
        "\n",
        "# Рассчитываем общую стоимость 8 карандашей\n",
        "total_cost = x * quantity\n",
        "\n",
        "# Рассчитываем сдачу\n",
        "change = y - total_cost\n",
        "\n",
        "# Выводим результат\n",
        "print(\"Сдача, которую вы должны получить:\", change, \"рублей.\")"
      ]
    },
    {
      "cell_type": "markdown",
      "id": "fbba2f6b",
      "metadata": {
        "id": "fbba2f6b"
      },
      "source": [
        "# Задание 3\n",
        "\n",
        "Ребенок в день съедает X творожка. Творожок продается в упаковках по Y штук. Какое наименьшее число упаковок надо купить, чтобы ребенку хватило на две недели?  (X и Y запросить у пользователя)"
      ]
    },
    {
      "cell_type": "code",
      "execution_count": null,
      "id": "b6861407",
      "metadata": {
        "id": "b6861407",
        "colab": {
          "base_uri": "https://localhost:8080/"
        },
        "outputId": "cb53d69a-0add-4ee1-bb8c-61ae8e41811d"
      },
      "outputs": [
        {
          "output_type": "stream",
          "name": "stdout",
          "text": [
            "Введите количество творожков, которое ребенок съедает в день: 4\n",
            "Введите количество творожка, содержащееся в упаковке: 6\n",
            "Две недели - это 14 дней.\n",
            "Всего за 14 дней ребенок съест 56 сырков.\n",
            "Получается, наименьшее число упаковок, которое нужно купить: 10."
          ]
        }
      ],
      "source": [
        "# Запрашиваем у пользователя количество творожков, которые ребенок съедает в день\n",
        "x = int(input(\"Введите количество творожков, которое ребенок съедает в день: \"))\n",
        "\n",
        "# Запрашиваем у пользователя количество творожков в упаковке\n",
        "y = int(input(\"Введите количество творожка, содержащееся в упаковке: \"))\n",
        "\n",
        "# Количество дней в двух неделях\n",
        "weeks = 2\n",
        "days = weeks * 7\n",
        "print(\"Две недели - это\", days, \"дней.\")\n",
        "\n",
        "# Общее количество творожков, необходимых ребенку\n",
        "overall_s = x * days\n",
        "print(\"Всего за\", days, \"дней\", \"ребенок съест\", overall_s, \"сырков.\")\n",
        "\n",
        "# Наименьшее количество упаковок, которое нужно купить\n",
        "number_of_packs = (overall_s + y - 1) // y  # Округляем в бОльшую сторону\n",
        "\n",
        "# Выводим результат\n",
        "print(\"Получается, наименьшее число упаковок, которое нужно купить:\", number_of_packs, end= \".\")"
      ]
    },
    {
      "cell_type": "markdown",
      "id": "259d0e60",
      "metadata": {
        "id": "259d0e60"
      },
      "source": [
        "# Задание 4\n",
        "\n",
        "Килограмм картошки стоит Х рублей. У Олега есть 1000 р, из этой суммы он 640 р должен положить на телефон, а на остальные деньги он купил картошку. Сколько килограмм купил Олег, если он получил сдачу Y рублей?\n",
        " (X и Y запросить у пользователя)"
      ]
    },
    {
      "cell_type": "code",
      "execution_count": 7,
      "id": "8f9fa034",
      "metadata": {
        "id": "8f9fa034",
        "colab": {
          "base_uri": "https://localhost:8080/"
        },
        "outputId": "47cfa744-b84a-4946-87a5-1ae37187dc8a"
      },
      "outputs": [
        {
          "output_type": "stream",
          "name": "stdout",
          "text": [
            "Введите стоимость одного килограмма картошки (в рублях): 80\n",
            "Введите сумму сдачи, которую Олег получил (в рублях): 50\n",
            "По условию, у Олега должна остаться сдача в размере: 50.0 рублей.\n",
            "Исходя из этого, Олег купил 20 килограмм картошки.\n"
          ]
        }
      ],
      "source": [
        "# Запрашиваем у пользователя стоимость одного килограмма картошки\n",
        "x = float(input(\"Введите стоимость одного килограмма картошки (в рублях): \"))\n",
        "\n",
        "# Запрашиваем у пользователя сумму сдачи, которую Олег получил\n",
        "y = float(input(\"Введите сумму сдачи, которую Олег получил (в рублях): \"))\n",
        "\n",
        "# Исходные данные\n",
        "total_money = 1000  # всего рублей\n",
        "money_for_phone = 640  # рублей на телефон\n",
        "\n",
        "# Рассчитываем остаток денег после оплаты телефона\n",
        "pocket_money = total_money - - money_for_phone - y\n",
        "print(\"По условию, у Олега должна остаться сдача в размере:\",  y, \"рублей.\")\n",
        "\n",
        "# Рассчитываем количество килограммов картошки, которые Олег купил\n",
        "kg_of_potatoes = round(pocket_money / x)\n",
        "\n",
        "# Выводим результат\n",
        "print(\"Исходя из этого, Олег купил\", kg_of_potatoes, \"килограмм картошки.\")"
      ]
    }
  ],
  "metadata": {
    "kernelspec": {
      "display_name": "Python 3 (ipykernel)",
      "language": "python",
      "name": "python3"
    },
    "language_info": {
      "codemirror_mode": {
        "name": "ipython",
        "version": 3
      },
      "file_extension": ".py",
      "mimetype": "text/x-python",
      "name": "python",
      "nbconvert_exporter": "python",
      "pygments_lexer": "ipython3",
      "version": "3.9.13"
    },
    "colab": {
      "provenance": []
    }
  },
  "nbformat": 4,
  "nbformat_minor": 5
}