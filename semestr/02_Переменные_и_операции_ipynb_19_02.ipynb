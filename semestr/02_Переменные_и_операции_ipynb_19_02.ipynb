{
  "cells": [
    {
      "cell_type": "markdown",
      "id": "c045c11a",
      "metadata": {
        "id": "c045c11a"
      },
      "source": [
        "# 2. Переменные\n",
        "\n",
        "## 2.1. Правила для имен переменных\n",
        "* Имя не может начинаться с числа.\n",
        "* В имени не может быть пробелов, вместо этого используйте нижнее подчёркивание: \"_\".\n",
        "* Имя не может содержать следующие символы:\n",
        "\n",
        "      :'\",<>/?|\\!@#%^&*~-+\n",
        "       \n",
        "* Считается хорошей практикой писать имена в нижнем регистре - см. [PEP8](https://www.python.org/dev/peps/pep-0008/#function-and-variable-names)\n",
        "* Не используйте в качестве названий переменных ключевые слова Python, такие как `list` и `str`\n",
        "* Не используйте следующие имена из одной буквы: 'l' (нижний регистр буквы L), 'O' (Верхний регистр буквы о), и 'I' (верхний регистр буквы i), потому что их можно спутать с единицей '1' и нулем '0'."
      ]
    },
    {
      "cell_type": "markdown",
      "id": "eb7ee4ab",
      "metadata": {
        "id": "eb7ee4ab"
      },
      "source": [
        "## 2.2. Динамические типы данных\n",
        "\n",
        "Python использует динамические типы данных (*dynamic typing*), то есть Вы можете присваивать переменным значения сначала одного, а затем другого типа. Благодаря этому Python очень гибко работает с типами данных; это отличает его от тех языков программирования, в которых типы данных *статичные*."
      ]
    },
    {
      "cell_type": "code",
      "execution_count": null,
      "id": "7ae68f07",
      "metadata": {
        "collapsed": true,
        "id": "7ae68f07"
      },
      "outputs": [],
      "source": [
        "my_dogs = 2"
      ]
    },
    {
      "cell_type": "code",
      "execution_count": null,
      "id": "2a61a3af",
      "metadata": {
        "id": "2a61a3af",
        "outputId": "c7c249a5-131c-46fd-cead-86791912dd2b"
      },
      "outputs": [
        {
          "data": {
            "text/plain": [
              "2"
            ]
          },
          "execution_count": 2,
          "metadata": {},
          "output_type": "execute_result"
        }
      ],
      "source": [
        "my_dogs"
      ]
    },
    {
      "cell_type": "code",
      "execution_count": null,
      "id": "e4309b20",
      "metadata": {
        "collapsed": true,
        "id": "e4309b20"
      },
      "outputs": [],
      "source": [
        "my_dogs = ['Sammy', 'Frankie']"
      ]
    },
    {
      "cell_type": "code",
      "execution_count": null,
      "id": "30282a8b",
      "metadata": {
        "id": "30282a8b",
        "outputId": "7afa744d-da74-4945-f6aa-057b13607d2b"
      },
      "outputs": [
        {
          "data": {
            "text/plain": [
              "['Sammy', 'Frankie']"
            ]
          },
          "execution_count": 4,
          "metadata": {},
          "output_type": "execute_result"
        }
      ],
      "source": [
        "my_dogs"
      ]
    },
    {
      "cell_type": "markdown",
      "id": "03a97ccb",
      "metadata": {
        "id": "03a97ccb"
      },
      "source": [
        "### Плюсы и минусы динамических типов данных\n",
        "#### Плюсы\n",
        "* легче работать\n",
        "* быстрее время разработки\n",
        "\n",
        "#### Минусы\n",
        "* можно получить неожиданные ошибки!\n",
        "* нужно следить за типами данных - `type()`"
      ]
    },
    {
      "cell_type": "markdown",
      "id": "0f4894ea",
      "metadata": {
        "id": "0f4894ea"
      },
      "source": [
        "## 2.3. Присвоение переменных\n",
        "Присвоение переменных пишется вот так: `name = object`, где оператор `=` это оператор присвоения (*assignment operator*)"
      ]
    },
    {
      "cell_type": "code",
      "execution_count": null,
      "id": "4360ef71",
      "metadata": {
        "collapsed": true,
        "id": "4360ef71"
      },
      "outputs": [],
      "source": [
        "a = 5"
      ]
    },
    {
      "cell_type": "code",
      "execution_count": null,
      "id": "fe5f1b6e",
      "metadata": {
        "id": "fe5f1b6e",
        "outputId": "d2cf2b32-1b3c-447d-8c33-e256de84da41"
      },
      "outputs": [
        {
          "data": {
            "text/plain": [
              "5"
            ]
          },
          "execution_count": 6,
          "metadata": {},
          "output_type": "execute_result"
        }
      ],
      "source": [
        "a"
      ]
    },
    {
      "cell_type": "markdown",
      "id": "b43c1536",
      "metadata": {
        "id": "b43c1536"
      },
      "source": [
        "Мы присвоили переменной с именем 'a' числовой объект `5`.<br>Давайте присвоим `a` другое значение:"
      ]
    },
    {
      "cell_type": "code",
      "execution_count": null,
      "id": "60ca0cb2",
      "metadata": {
        "collapsed": true,
        "id": "60ca0cb2"
      },
      "outputs": [],
      "source": [
        "a = 10"
      ]
    },
    {
      "cell_type": "code",
      "execution_count": null,
      "id": "11090ca6",
      "metadata": {
        "scrolled": true,
        "id": "11090ca6",
        "outputId": "4994913c-cc12-4757-d66d-2a3a5ee5a556"
      },
      "outputs": [
        {
          "data": {
            "text/plain": [
              "10"
            ]
          },
          "execution_count": 8,
          "metadata": {},
          "output_type": "execute_result"
        }
      ],
      "source": [
        "a"
      ]
    },
    {
      "cell_type": "markdown",
      "id": "12ec95aa",
      "metadata": {
        "id": "12ec95aa"
      },
      "source": [
        "Теперь можно использовать `a` вместо числа `10`:"
      ]
    },
    {
      "cell_type": "code",
      "execution_count": null,
      "id": "acf32c87",
      "metadata": {
        "id": "acf32c87",
        "outputId": "c93f39cc-ee3c-4ecd-85df-5780c85528b6"
      },
      "outputs": [
        {
          "data": {
            "text/plain": [
              "20"
            ]
          },
          "execution_count": 9,
          "metadata": {},
          "output_type": "execute_result"
        }
      ],
      "source": [
        "a + a"
      ]
    },
    {
      "cell_type": "markdown",
      "id": "09da8d05",
      "metadata": {
        "id": "09da8d05"
      },
      "source": [
        "## 2.3. Переопределение переменных\n",
        "Python позволяет переопределять переменные, ссылаясь на тот же самый объект."
      ]
    },
    {
      "cell_type": "code",
      "execution_count": null,
      "id": "03472706",
      "metadata": {
        "collapsed": true,
        "id": "03472706"
      },
      "outputs": [],
      "source": [
        "a = a + 10"
      ]
    },
    {
      "cell_type": "code",
      "execution_count": null,
      "id": "df7d3626",
      "metadata": {
        "id": "df7d3626",
        "outputId": "e9633be8-424e-4396-cb2f-62fed7574b11"
      },
      "outputs": [
        {
          "data": {
            "text/plain": [
              "20"
            ]
          },
          "execution_count": 11,
          "metadata": {},
          "output_type": "execute_result"
        }
      ],
      "source": [
        "a"
      ]
    },
    {
      "cell_type": "markdown",
      "id": "7fa225cf",
      "metadata": {
        "id": "7fa225cf"
      },
      "source": [
        "И это можно написать в короткой форме. Python позволяет складывать, вычитать, умножать и делить числа с помощью `+=`, `-=`, `*=` и `/=`."
      ]
    },
    {
      "cell_type": "code",
      "execution_count": null,
      "id": "2f3828c8",
      "metadata": {
        "id": "2f3828c8"
      },
      "outputs": [],
      "source": [
        "a += 10 # это означает:  a = a + 10"
      ]
    },
    {
      "cell_type": "code",
      "execution_count": null,
      "id": "2e0043a6",
      "metadata": {
        "id": "2e0043a6",
        "outputId": "d52fc53d-800f-45f2-a28c-b55e8fa42885"
      },
      "outputs": [
        {
          "data": {
            "text/plain": [
              "30"
            ]
          },
          "execution_count": 13,
          "metadata": {},
          "output_type": "execute_result"
        }
      ],
      "source": [
        "a"
      ]
    },
    {
      "cell_type": "code",
      "execution_count": null,
      "id": "dedc65d1",
      "metadata": {
        "collapsed": true,
        "id": "dedc65d1"
      },
      "outputs": [],
      "source": [
        "a *= 2  # это означает:  a = a * 2"
      ]
    },
    {
      "cell_type": "code",
      "execution_count": null,
      "id": "419f2696",
      "metadata": {
        "id": "419f2696",
        "outputId": "2edbdd5d-4c22-42c7-ad63-82c758c380b6"
      },
      "outputs": [
        {
          "data": {
            "text/plain": [
              "60"
            ]
          },
          "execution_count": 15,
          "metadata": {},
          "output_type": "execute_result"
        }
      ],
      "source": [
        "a"
      ]
    },
    {
      "cell_type": "markdown",
      "id": "23d8497c",
      "metadata": {
        "id": "23d8497c"
      },
      "source": [
        "## 2.4. Определение типа переменной с помощью `type()`\n",
        "Вы можете узнать тип объекта, который был присвоен переменной, с помощью встроенной функции `type()`. Часто используемые типы данных:\n",
        "* **int** (для integer)\n",
        "* **float**\n",
        "* **str** (для string)\n",
        "* **list**\n",
        "* **tuple**\n",
        "* **dict** (для dictionary)\n",
        "* **set**\n",
        "* **bool** (для Boolean True/False)"
      ]
    },
    {
      "cell_type": "code",
      "execution_count": null,
      "id": "dd69b431",
      "metadata": {
        "id": "dd69b431",
        "outputId": "f32b2cdd-7ba4-464a-ad07-7d4e596034ca"
      },
      "outputs": [
        {
          "data": {
            "text/plain": [
              "int"
            ]
          },
          "execution_count": 16,
          "metadata": {},
          "output_type": "execute_result"
        }
      ],
      "source": [
        "type(a)"
      ]
    },
    {
      "cell_type": "code",
      "execution_count": null,
      "id": "d5c0be20",
      "metadata": {
        "collapsed": true,
        "id": "d5c0be20"
      },
      "outputs": [],
      "source": [
        "a = (1,2)"
      ]
    },
    {
      "cell_type": "code",
      "execution_count": null,
      "id": "d54d1086",
      "metadata": {
        "id": "d54d1086",
        "outputId": "632e8d00-ff3b-4f8c-feca-bd09ad90d944"
      },
      "outputs": [
        {
          "data": {
            "text/plain": [
              "tuple"
            ]
          },
          "execution_count": 18,
          "metadata": {},
          "output_type": "execute_result"
        }
      ],
      "source": [
        "type(a)"
      ]
    },
    {
      "cell_type": "markdown",
      "id": "e5aa0b1e",
      "metadata": {
        "id": "e5aa0b1e"
      },
      "source": [
        "## Простой пример\n",
        "Здесь показано, как осмысленные названия переменных могут сделать ваш код более читаемым."
      ]
    },
    {
      "cell_type": "code",
      "execution_count": null,
      "id": "8137da5f",
      "metadata": {
        "collapsed": true,
        "id": "8137da5f"
      },
      "outputs": [],
      "source": [
        "my_income = 100\n",
        "tax_rate = 0.1\n",
        "my_taxes = my_income * tax_rate"
      ]
    },
    {
      "cell_type": "code",
      "execution_count": null,
      "id": "d9bf487a",
      "metadata": {
        "id": "d9bf487a",
        "outputId": "92ba9be0-4cbd-4a03-d4c8-ded96ee38036"
      },
      "outputs": [
        {
          "data": {
            "text/plain": [
              "10.0"
            ]
          },
          "execution_count": 20,
          "metadata": {},
          "output_type": "execute_result"
        }
      ],
      "source": [
        "my_taxes"
      ]
    },
    {
      "cell_type": "markdown",
      "id": "66fca75d",
      "metadata": {
        "id": "66fca75d",
        "pycharm": {
          "name": "#%% md\n"
        }
      },
      "source": [
        "## 2.5. Типы данных\n",
        "Типы данных, которые есть в python. [официальная документация](https://docs.python.org/3/library/stdtypes.html).\n",
        "\n",
        "1.   Числа (int, float, complex).\n",
        "2.   Строки.\n",
        "3.   Логический тип данных.\n",
        "4.   Переменные\n"
      ]
    },
    {
      "cell_type": "markdown",
      "id": "06ff5bbd",
      "metadata": {
        "id": "06ff5bbd",
        "pycharm": {
          "name": "#%% md\n"
        }
      },
      "source": [
        "## Целые числа\n",
        "Целые числа могут иметь бесконечную длину"
      ]
    },
    {
      "cell_type": "code",
      "execution_count": null,
      "id": "232e996e",
      "metadata": {
        "colab": {
          "base_uri": "https://localhost:8080/"
        },
        "id": "232e996e",
        "outputId": "5aaf88fb-82f2-414b-abb0-dd07d2b09405",
        "pycharm": {
          "name": "#%%\n"
        }
      },
      "outputs": [
        {
          "name": "stdout",
          "output_type": "stream",
          "text": [
            "11111111111111111111111111111111111111111111111111111111111111111111111113\n"
          ]
        }
      ],
      "source": [
        "print(11111111111111111111111111111111111111111111111111111111111111111111111111 + 2)"
      ]
    },
    {
      "cell_type": "markdown",
      "id": "ddf64bd4",
      "metadata": {
        "id": "ddf64bd4",
        "pycharm": {
          "name": "#%% md\n"
        }
      },
      "source": [
        "Python поддерживает несколько систем исчисления\n",
        "1.   Восьмеричную\n",
        "2.   Шестнадцатеричную\n",
        "3.   Двоичную\n",
        "\n",
        "Посмотрите вики [link](https://ru.wikipedia.org/wiki/%D0%A8%D0%B5%D1%81%D1%82%D0%BD%D0%B0%D0%B4%D1%86%D0%B0%D1%82%D0%B5%D1%80%D0%B8%D1%87%D0%BD%D0%B0%D1%8F_%D1%81%D0%B8%D1%81%D1%82%D0%B5%D0%BC%D0%B0_%D1%81%D1%87%D0%B8%D1%81%D0%BB%D0%B5%D0%BD%D0%B8%D1%8F)"
      ]
    },
    {
      "cell_type": "code",
      "execution_count": null,
      "id": "c85c803a",
      "metadata": {
        "colab": {
          "base_uri": "https://localhost:8080/"
        },
        "id": "c85c803a",
        "outputId": "a1cadd53-aee8-4527-aeee-2e28c243d8ab",
        "pycharm": {
          "name": "#%%\n"
        }
      },
      "outputs": [
        {
          "name": "stdout",
          "output_type": "stream",
          "text": [
            "9\n",
            "26\n",
            "2\n"
          ]
        }
      ],
      "source": [
        "print(0o11)  # base = 8\n",
        "print(0x1A)  # base = 16\n",
        "print(0b10)  # base = 2"
      ]
    },
    {
      "cell_type": "code",
      "execution_count": null,
      "id": "487f2d58",
      "metadata": {
        "colab": {
          "base_uri": "https://localhost:8080/"
        },
        "id": "487f2d58",
        "outputId": "25d291ca-37f0-40dc-c8c4-74b46a72568c",
        "pycharm": {
          "name": "#%%\n"
        }
      },
      "outputs": [
        {
          "name": "stdout",
          "output_type": "stream",
          "text": [
            "<class 'int'>\n",
            "<class 'int'>\n"
          ]
        }
      ],
      "source": [
        "# это все тип int, над которым работает арифметика\n",
        "print(type(10))\n",
        "print(type(0o10))"
      ]
    },
    {
      "cell_type": "markdown",
      "id": "b04f6a39",
      "metadata": {
        "id": "b04f6a39",
        "pycharm": {
          "name": "#%% md\n"
        }
      },
      "source": [
        "## Числа с плавающей точкой"
      ]
    },
    {
      "cell_type": "code",
      "execution_count": null,
      "id": "8f0a211c",
      "metadata": {
        "colab": {
          "base_uri": "https://localhost:8080/"
        },
        "id": "8f0a211c",
        "outputId": "313fc3f5-05ec-4928-8155-76926c2b20c1",
        "pycharm": {
          "name": "#%%\n"
        }
      },
      "outputs": [
        {
          "name": "stdout",
          "output_type": "stream",
          "text": [
            "4.2\n",
            "<class 'float'>\n",
            "4.0\n",
            "0.2\n",
            "4000000.0\n",
            "<class 'float'>\n",
            "4000.0\n",
            "True\n",
            "2.2e-05\n"
          ]
        }
      ],
      "source": [
        "print(4.2)\n",
        "print(type(4.2))\n",
        "print(4.)\n",
        "print(.2)\n",
        "print(.4e7)\n",
        "print(type(.4e7))\n",
        "print(4e+3)\n",
        "print(2.2e-5 == 0.000022)\n",
        "print(0.000022)"
      ]
    },
    {
      "cell_type": "code",
      "execution_count": null,
      "id": "8666579d",
      "metadata": {
        "colab": {
          "base_uri": "https://localhost:8080/"
        },
        "id": "8666579d",
        "outputId": "8acaa3be-92c8-493a-fd3c-8e8db7cdca28",
        "pycharm": {
          "name": "#%%\n"
        }
      },
      "outputs": [
        {
          "name": "stdout",
          "output_type": "stream",
          "text": [
            "1.79e+308\n",
            "inf\n",
            "5e-324\n",
            "0.0\n"
          ]
        }
      ],
      "source": [
        "# У вещественных чисел существует ограничение\n",
        "\n",
        "# бесконечность\n",
        "print(1.79e308)\n",
        "print(1.8e308)\n",
        "# ближайшее к нулю\n",
        "print(5e-324)\n",
        "print(1e-325)"
      ]
    },
    {
      "cell_type": "code",
      "execution_count": null,
      "id": "62beeaf8",
      "metadata": {
        "colab": {
          "base_uri": "https://localhost:8080/"
        },
        "id": "62beeaf8",
        "outputId": "6b68b902-628e-4412-cc0b-7e069cc2c7ce",
        "pycharm": {
          "name": "#%%\n"
        }
      },
      "outputs": [
        {
          "name": "stdout",
          "output_type": "stream",
          "text": [
            "-inf\n",
            "True\n",
            "False\n"
          ]
        }
      ],
      "source": [
        "# есть также константа inf, удобная для определения бесконечных\n",
        "print(-float(\"inf\"))\n",
        "print(float(\"inf\") > 10e300)\n",
        "print(float(\"inf\") > 10e400)"
      ]
    },
    {
      "cell_type": "code",
      "execution_count": null,
      "id": "76097f16",
      "metadata": {
        "pycharm": {
          "name": "#%%\n"
        },
        "id": "76097f16",
        "outputId": "e75254a3-0c61-4959-bdcc-4d0c20e7a709"
      },
      "outputs": [
        {
          "data": {
            "text/plain": [
              "True"
            ]
          },
          "execution_count": 77,
          "metadata": {},
          "output_type": "execute_result"
        }
      ],
      "source": [
        "(1.1 + 2.2) - 3.3 < 0.1"
      ]
    },
    {
      "cell_type": "markdown",
      "id": "e28f3c82",
      "metadata": {
        "id": "e28f3c82",
        "pycharm": {
          "name": "#%% md\n"
        }
      },
      "source": [
        "## Общие операции для разных численных типов данных\n",
        "\n",
        "<table class=\"docutils align-default\">\n",
        "<colgroup>\n",
        "<col style=\"width: 25%\">\n",
        "<col style=\"width: 40%\">\n",
        "<col style=\"width: 11%\">\n",
        "<col style=\"width: 24%\">\n",
        "</colgroup>\n",
        "<thead>\n",
        "<tr class=\"row-odd\"><th class=\"head\"><p>Operation</p></th>\n",
        "<th class=\"head\"><p>Result</p></th>\n",
        "<th class=\"head\"><p>Notes</p></th>\n",
        "<th class=\"head\"><p>Full documentation</p></th>\n",
        "</tr>\n",
        "</thead>\n",
        "<tbody>\n",
        "<tr class=\"row-even\"><td><p><code class=\"docutils literal notranslate\"><span class=\"pre\">x</span> <span class=\"pre\">+</span> <span class=\"pre\">y</span></code></p></td>\n",
        "<td><p>sum of <em>x</em> and <em>y</em></p></td>\n",
        "<td></td>\n",
        "<td></td>\n",
        "</tr>\n",
        "<tr class=\"row-odd\"><td><p><code class=\"docutils literal notranslate\"><span class=\"pre\">x</span> <span class=\"pre\">-</span> <span class=\"pre\">y</span></code></p></td>\n",
        "<td><p>difference of <em>x</em> and <em>y</em></p></td>\n",
        "<td></td>\n",
        "<td></td>\n",
        "</tr>\n",
        "<tr class=\"row-even\"><td><p><code class=\"docutils literal notranslate\"><span class=\"pre\">x</span> <span class=\"pre\">*</span> <span class=\"pre\">y</span></code></p></td>\n",
        "<td><p>product of <em>x</em> and <em>y</em></p></td>\n",
        "<td></td>\n",
        "<td></td>\n",
        "</tr>\n",
        "<tr class=\"row-odd\"><td><p><code class=\"docutils literal notranslate\"><span class=\"pre\">x</span> <span class=\"pre\">/</span> <span class=\"pre\">y</span></code></p></td>\n",
        "<td><p>quotient of <em>x</em> and <em>y</em></p></td>\n",
        "<td></td>\n",
        "<td></td>\n",
        "</tr>\n",
        "<tr class=\"row-even\"><td><p><code class=\"docutils literal notranslate\"><span class=\"pre\">x</span> <span class=\"pre\">//</span> <span class=\"pre\">y</span></code></p></td>\n",
        "<td><p>floored quotient of <em>x</em> and\n",
        "<em>y</em></p></td>\n",
        "<td><p></p></td>\n",
        "<td></td>\n",
        "</tr>\n",
        "<tr class=\"row-odd\"><td><p><code class=\"docutils literal notranslate\"><span class=\"pre\">x</span> <span class=\"pre\">%</span> <span class=\"pre\">y</span></code></p></td>\n",
        "<td><p>remainder of <code class=\"docutils literal notranslate\"><span class=\"pre\">x</span> <span class=\"pre\">/</span> <span class=\"pre\">y</span></code></p></td>\n",
        "<td><p></p></td>\n",
        "<td></td>\n",
        "</tr>\n",
        "<tr class=\"row-even\"><td><p><code class=\"docutils literal notranslate\"><span class=\"pre\">-x</span></code></p></td>\n",
        "<td><p><em>x</em> negated</p></td>\n",
        "<td></td>\n",
        "<td></td>\n",
        "</tr>\n",
        "<tr class=\"row-odd\"><td><p><code class=\"docutils literal notranslate\"><span class=\"pre\">+x</span></code></p></td>\n",
        "<td><p><em>x</em> unchanged</p></td>\n",
        "<td></td>\n",
        "<td></td>\n",
        "</tr>\n",
        "<tr class=\"row-even\"><td><p><code class=\"docutils literal notranslate\"><span class=\"pre\">abs(x)</span></code></p></td>\n",
        "<td><p>absolute value or magnitude of\n",
        "<em>x</em></p></td>\n",
        "<td></td>\n",
        "<td><p><a class=\"reference internal\" href=\"functions.html#abs\" title=\"abs\"><code class=\"xref py py-func docutils literal notranslate\"><span class=\"pre\">abs()</span></code></a></p></td>\n",
        "</tr>\n",
        "<tr class=\"row-odd\"><td><p><code class=\"docutils literal notranslate\"><span class=\"pre\">int(x)</span></code></p></td>\n",
        "<td><p><em>x</em> converted to integer</p></td>\n",
        "<td><p></p></td>\n",
        "<td><p><a class=\"reference internal\" href=\"functions.html#int\" title=\"int\"><code class=\"xref py py-func docutils literal notranslate\"><span class=\"pre\">int()</span></code></a></p></td>\n",
        "</tr>\n",
        "<tr class=\"row-even\"><td><p><code class=\"docutils literal notranslate\"><span class=\"pre\">float(x)</span></code></p></td>\n",
        "<td><p><em>x</em> converted to floating point</p></td>\n",
        "<td><p></p></td>\n",
        "<td><p><a class=\"reference internal\" href=\"functions.html#float\" title=\"float\"><code class=\"xref py py-func docutils literal notranslate\"><span class=\"pre\">float()</span></code></a></p></td>\n",
        "</tr>\n",
        "<tr class=\"row-even\"><td><p><code class=\"docutils literal notranslate\"><span class=\"pre\">pow(x,</span> <span class=\"pre\">y)</span></code></p></td>\n",
        "<td><p><em>x</em> to the power <em>y</em></p></td>\n",
        "<td><p></p></td>\n",
        "<td><p><a class=\"reference internal\" href=\"functions.html#pow\" title=\"pow\"><code class=\"xref py py-func docutils literal notranslate\"><span class=\"pre\">pow()</span></code></a></p></td>\n",
        "</tr>\n",
        "<tr class=\"row-odd\"><td><p><code class=\"docutils literal notranslate\"><span class=\"pre\">x</span> <span class=\"pre\">**</span> <span class=\"pre\">y</span></code></p></td>\n",
        "<td><p><em>x</em> to the power <em>y</em></p></td>\n",
        "<td><p></p></td>\n",
        "<td></td>\n",
        "</tr>\n",
        "</tbody>\n",
        "</table>"
      ]
    },
    {
      "cell_type": "code",
      "execution_count": null,
      "id": "13c81f9f",
      "metadata": {
        "colab": {
          "base_uri": "https://localhost:8080/"
        },
        "id": "13c81f9f",
        "outputId": "29576cf4-b8fc-4705-eb18-9abcfaadbba1",
        "pycharm": {
          "name": "#%%\n"
        }
      },
      "outputs": [
        {
          "output_type": "stream",
          "name": "stdout",
          "text": [
            "137\n",
            "51\n",
            "4042\n",
            "2.186046511627907\n",
            "2\n",
            "8\n",
            "-94\n",
            "94\n",
            "94\n",
            "94\n",
            "94.0\n",
            "6990330424163123434035179852100112403036474044734052048030263039361340053023971344384\n",
            "6990330424163123434035179852100112403036474044734052048030263039361340053023971344384\n"
          ]
        }
      ],
      "source": [
        "# Для чисел 94 и 43 примените здесь все эти операции\n",
        "x = 94\n",
        "y = 43\n",
        "\n",
        "print(x + y)\n",
        "print(x - y)\n",
        "print(x * y)\n",
        "print(x / y)\n",
        "print(x // y)\n",
        "print(x % y)\n",
        "print(-x)\n",
        "print(+x)\n",
        "print(abs(x))\n",
        "print(int(x))\n",
        "print(float(x))\n",
        "print(pow(x, y))\n",
        "print(x ** y)"
      ]
    },
    {
      "cell_type": "markdown",
      "id": "6e2609dc",
      "metadata": {
        "id": "6e2609dc",
        "pycharm": {
          "name": "#%% md\n"
        }
      },
      "source": [
        "## Строки\n",
        "\n",
        "Преобразовать элемент в строку можно с помощью функции `str`"
      ]
    },
    {
      "cell_type": "code",
      "execution_count": null,
      "id": "04d7323b",
      "metadata": {
        "colab": {
          "base_uri": "https://localhost:8080/"
        },
        "id": "04d7323b",
        "outputId": "a537b389-dfba-4cb2-f7fe-8909fe5d0e9a",
        "pycharm": {
          "name": "#%%\n"
        }
      },
      "outputs": [
        {
          "name": "stdout",
          "output_type": "stream",
          "text": [
            "Hello\n",
            "Hello\n",
            "True\n",
            "<class 'str'>\n"
          ]
        }
      ],
      "source": [
        "print('Hello')\n",
        "print(\"Hello\")\n",
        "print(\"Hello\" == 'Hello')\n",
        "print(type('Hello'))"
      ]
    },
    {
      "cell_type": "code",
      "execution_count": null,
      "id": "287750d3",
      "metadata": {
        "colab": {
          "base_uri": "https://localhost:8080/"
        },
        "id": "287750d3",
        "outputId": "02ae62cb-8023-4649-950e-46c40bf2880b",
        "pycharm": {
          "name": "#%%\n"
        }
      },
      "outputs": [
        {
          "output_type": "stream",
          "name": "stdout",
          "text": [
            "\n"
          ]
        }
      ],
      "source": [
        "# строка может содержать бесконечное количество символов\n",
        "\n",
        "print('')"
      ]
    },
    {
      "cell_type": "code",
      "execution_count": null,
      "id": "2018c733",
      "metadata": {
        "colab": {
          "base_uri": "https://localhost:8080/"
        },
        "id": "2018c733",
        "outputId": "6003f8ce-a377-45e6-f465-8a1bce87ac04",
        "pycharm": {
          "name": "#%%\n"
        }
      },
      "outputs": [
        {
          "output_type": "stream",
          "name": "stdout",
          "text": [
            "Masha's apple\n"
          ]
        }
      ],
      "source": [
        "print(\"Masha's apple\")"
      ]
    },
    {
      "cell_type": "code",
      "execution_count": null,
      "id": "eb2fd72c",
      "metadata": {
        "colab": {
          "base_uri": "https://localhost:8080/"
        },
        "id": "eb2fd72c",
        "outputId": "a10fc26d-2d34-43af-a790-710d59c66dcb",
        "pycharm": {
          "name": "#%%\n"
        }
      },
      "outputs": [
        {
          "name": "stdout",
          "output_type": "stream",
          "text": [
            "Masha's apple\n",
            "Masha's apple\n"
          ]
        }
      ],
      "source": [
        "print(\"Masha's apple\")\n",
        "print('Masha\\'s apple')"
      ]
    },
    {
      "cell_type": "markdown",
      "id": "88349256",
      "metadata": {
        "id": "88349256",
        "pycharm": {
          "name": "#%% md\n"
        }
      },
      "source": [
        "<table class=\"table table-hover\">\n",
        "<thead>\n",
        "<tr>\n",
        "<th>Символы<br>Экранирования</th>\n",
        "<th>Usual Interpretation of<br>Character(s) After Backslash</th>\n",
        "<th>“Escaped” Interpretation</th>\n",
        "</tr>\n",
        "</thead>\n",
        "<tbody>\n",
        "<tr>\n",
        "<td><code>\\'</code></td>\n",
        "<td>Terminates string with single quote opening delimiter</td>\n",
        "<td>Literal single quote (<code>'</code>) character</td>\n",
        "</tr>\n",
        "<tr>\n",
        "<td><code>\\\"</code></td>\n",
        "<td>Terminates string with double quote opening delimiter</td>\n",
        "<td>Literal double quote (<code>\"</code>) character</td>\n",
        "</tr>\n",
        "<tr>\n",
        "<td><code>\\&lt;newline&gt;</code></td>\n",
        "<td>Terminates input line</td>\n",
        "<td><a href=\"https://stackoverflow.com/questions/48693600/what-does-the-newline-escape-sequence-mean-in-python\">Newline is ignored</a></td>\n",
        "</tr>\n",
        "<tr>\n",
        "<td><code>\\\\</code></td>\n",
        "<td>Introduces escape sequence</td>\n",
        "<td>Literal backslash (<code>\\</code>) character</td>\n",
        "</tr>\n",
        "</tbody>\n",
        "</table>"
      ]
    },
    {
      "cell_type": "code",
      "execution_count": null,
      "id": "8be4db3b",
      "metadata": {
        "colab": {
          "base_uri": "https://localhost:8080/"
        },
        "id": "8be4db3b",
        "outputId": "cbb11f6e-3bad-42e1-93a2-d0d4e6d1f45f",
        "pycharm": {
          "name": "#%%\n"
        }
      },
      "outputs": [
        {
          "name": "stdout",
          "output_type": "stream",
          "text": [
            "1---2---31 2 3\n"
          ]
        }
      ],
      "source": [
        "print(1, 2, 3, end='', sep=\"---\")\n",
        "print(1, 2, 3)"
      ]
    },
    {
      "cell_type": "markdown",
      "id": "71548a45",
      "metadata": {
        "id": "71548a45",
        "pycharm": {
          "name": "#%% md\n"
        }
      },
      "source": [
        "## Логический тип данных\n",
        "\n",
        "Важно отметить, что у всех объектов в питоне есть логическое значение. Т.е. он может быть протестирован на истинность. По умолчанию все объекты являются истинными (True), если только не определены специальные методы.\n",
        "\n",
        "```\n",
        ">>>bool(10)\n",
        "True\n",
        ">>>bool(-10)\n",
        "True\n",
        ">>>bool('Hello')\n",
        "True\n",
        ">>>bool('')\n",
        "False\n",
        "```\n"
      ]
    },
    {
      "cell_type": "code",
      "execution_count": null,
      "id": "c10d7d7c",
      "metadata": {
        "pycharm": {
          "name": "#%%\n"
        },
        "id": "c10d7d7c"
      },
      "outputs": [],
      "source": [
        "None"
      ]
    },
    {
      "cell_type": "code",
      "execution_count": null,
      "id": "85234b2c",
      "metadata": {
        "colab": {
          "base_uri": "https://localhost:8080/"
        },
        "id": "85234b2c",
        "outputId": "6d111917-4272-48f3-da50-d99cc7f781c8",
        "pycharm": {
          "name": "#%%\n"
        }
      },
      "outputs": [
        {
          "data": {
            "text/plain": [
              "False"
            ]
          },
          "execution_count": 123,
          "metadata": {},
          "output_type": "execute_result"
        }
      ],
      "source": [
        "bool(None)"
      ]
    },
    {
      "cell_type": "code",
      "execution_count": null,
      "id": "49d218ef",
      "metadata": {
        "colab": {
          "base_uri": "https://localhost:8080/"
        },
        "id": "49d218ef",
        "outputId": "dcde8a2e-4c9f-496a-915b-d33db7d0ef6d",
        "pycharm": {
          "name": "#%%\n"
        }
      },
      "outputs": [
        {
          "output_type": "execute_result",
          "data": {
            "text/plain": [
              "False"
            ]
          },
          "metadata": {},
          "execution_count": 5
        }
      ],
      "source": [
        "True\n",
        "False"
      ]
    },
    {
      "cell_type": "code",
      "execution_count": null,
      "id": "38a05557",
      "metadata": {
        "colab": {
          "base_uri": "https://localhost:8080/"
        },
        "id": "38a05557",
        "outputId": "84da7aed-3c04-4c4d-d438-1dc0d7a9fcd9",
        "pycharm": {
          "name": "#%%\n"
        }
      },
      "outputs": [
        {
          "name": "stdout",
          "output_type": "stream",
          "text": [
            "False\n",
            "False\n"
          ]
        }
      ],
      "source": [
        "print(bool(0))\n",
        "print(bool(''))"
      ]
    },
    {
      "cell_type": "markdown",
      "id": "807151ab",
      "metadata": {
        "id": "807151ab",
        "pycharm": {
          "name": "#%% md\n"
        }
      },
      "source": [
        "Булевы операторы\n",
        "\n",
        "<table class=\"docutils align-default\">\n",
        "<colgroup>\n",
        "<col style=\"width: 25%\">\n",
        "<col style=\"width: 62%\">\n",
        "<col style=\"width: 13%\">\n",
        "</colgroup>\n",
        "<thead>\n",
        "<tr class=\"row-odd\"><th class=\"head\"><p>Operation</p></th>\n",
        "<th class=\"head\"><p>Result</p></th>\n",
        "<th class=\"head\"><p>Notes</p></th>\n",
        "</tr>\n",
        "</thead>\n",
        "<tbody>\n",
        "<tr class=\"row-even\"><td><p><code class=\"docutils literal notranslate\"><span class=\"pre\">x</span> <span class=\"pre\">or</span> <span class=\"pre\">y</span></code></p></td>\n",
        "<td><p>if <em>x</em> is false, then <em>y</em>, else\n",
        "<em>x</em></p></td>\n",
        "<td><p>(1)</p></td>\n",
        "</tr>\n",
        "<tr class=\"row-odd\"><td><p><code class=\"docutils literal notranslate\"><span class=\"pre\">x</span> <span class=\"pre\">and</span> <span class=\"pre\">y</span></code></p></td>\n",
        "<td><p>if <em>x</em> is false, then <em>x</em>, else\n",
        "<em>y</em></p></td>\n",
        "<td><p>(2)</p></td>\n",
        "</tr>\n",
        "<tr class=\"row-even\"><td><p><code class=\"docutils literal notranslate\"><span class=\"pre\">not</span> <span class=\"pre\">x</span></code></p></td>\n",
        "<td><p>if <em>x</em> is false, then <code class=\"docutils literal notranslate\"><span class=\"pre\">True</span></code>,\n",
        "else <code class=\"docutils literal notranslate\"><span class=\"pre\">False</span></code></p></td>\n",
        "<td><p>(3)</p></td>\n",
        "</tr>\n",
        "</tbody>\n",
        "</table>"
      ]
    },
    {
      "cell_type": "code",
      "execution_count": null,
      "id": "04f00169",
      "metadata": {
        "pycharm": {
          "name": "#%%\n"
        },
        "id": "04f00169",
        "outputId": "448f2e64-f4d5-4642-ce57-03fd10390c1c"
      },
      "outputs": [
        {
          "name": "stdout",
          "output_type": "stream",
          "text": [
            "0\n",
            "1\n",
            "True\n",
            "True\n"
          ]
        }
      ],
      "source": [
        "print(int(False or False))\n",
        "print(int(False or True))\n",
        "print(True or False)\n",
        "print(True or True)"
      ]
    },
    {
      "cell_type": "code",
      "execution_count": null,
      "id": "261617d3",
      "metadata": {
        "pycharm": {
          "name": "#%%\n"
        },
        "id": "261617d3",
        "outputId": "d5db9bcb-c374-410d-b0bb-65514e8e4126"
      },
      "outputs": [
        {
          "data": {
            "text/plain": [
              "(True, False)"
            ]
          },
          "execution_count": 131,
          "metadata": {},
          "output_type": "execute_result"
        }
      ],
      "source": [
        "bool(10), bool(None)"
      ]
    },
    {
      "cell_type": "code",
      "execution_count": null,
      "id": "5efdeb20",
      "metadata": {
        "pycharm": {
          "name": "#%%\n"
        },
        "id": "5efdeb20",
        "outputId": "5c1e58fc-fa7b-4817-c818-cf4e6bf4a813"
      },
      "outputs": [
        {
          "data": {
            "text/plain": [
              "10"
            ]
          },
          "execution_count": 133,
          "metadata": {},
          "output_type": "execute_result"
        }
      ],
      "source": [
        "10 or None"
      ]
    },
    {
      "cell_type": "code",
      "execution_count": null,
      "id": "bb34b006",
      "metadata": {
        "colab": {
          "base_uri": "https://localhost:8080/",
          "height": 35
        },
        "id": "bb34b006",
        "outputId": "8159ce9a-cad4-45db-949f-5fb833516e28",
        "pycharm": {
          "name": "#%%\n"
        }
      },
      "outputs": [
        {
          "data": {
            "text/plain": [
              "'asc'"
            ]
          },
          "execution_count": 134,
          "metadata": {},
          "output_type": "execute_result"
        }
      ],
      "source": [
        "'asd' and 'asc'"
      ]
    },
    {
      "cell_type": "markdown",
      "id": "17816b31",
      "metadata": {
        "id": "17816b31",
        "pycharm": {
          "name": "#%% md\n"
        }
      },
      "source": [
        "Операторы сравнения\n",
        "\n",
        "<table class=\"docutils align-default\">\n",
        "<colgroup>\n",
        "<col style=\"width: 32%\">\n",
        "<col style=\"width: 68%\">\n",
        "</colgroup>\n",
        "<thead>\n",
        "<tr class=\"row-odd\"><th class=\"head\"><p>Operation</p></th>\n",
        "<th class=\"head\"><p>Meaning</p></th>\n",
        "</tr>\n",
        "</thead>\n",
        "<tbody>\n",
        "<tr class=\"row-even\"><td><p><code class=\"docutils literal notranslate\"><span class=\"pre\">&lt;</span></code></p></td>\n",
        "<td><p>strictly less than</p></td>\n",
        "</tr>\n",
        "<tr class=\"row-odd\"><td><p><code class=\"docutils literal notranslate\"><span class=\"pre\">&lt;=</span></code></p></td>\n",
        "<td><p>less than or equal</p></td>\n",
        "</tr>\n",
        "<tr class=\"row-even\"><td><p><code class=\"docutils literal notranslate\"><span class=\"pre\">&gt;</span></code></p></td>\n",
        "<td><p>strictly greater than</p></td>\n",
        "</tr>\n",
        "<tr class=\"row-odd\"><td><p><code class=\"docutils literal notranslate\"><span class=\"pre\">&gt;=</span></code></p></td>\n",
        "<td><p>greater than or equal</p></td>\n",
        "</tr>\n",
        "<tr class=\"row-even\"><td><p><code class=\"docutils literal notranslate\"><span class=\"pre\">==</span></code></p></td>\n",
        "<td><p>equal</p></td>\n",
        "</tr>\n",
        "<tr class=\"row-odd\"><td><p><code class=\"docutils literal notranslate\"><span class=\"pre\">!=</span></code></p></td>\n",
        "<td><p>not equal</p></td>\n",
        "</tr>\n",
        "<tr class=\"row-even\"><td><p><code class=\"docutils literal notranslate\"><span class=\"pre\">is</span></code></p></td>\n",
        "<td><p>object identity</p></td>\n",
        "</tr>\n",
        "<tr class=\"row-odd\"><td><p><code class=\"docutils literal notranslate\"><span class=\"pre\">is</span> <span class=\"pre\">not</span></code></p></td>\n",
        "<td><p>negated object identity</p></td>\n",
        "</tr>\n",
        "</tbody>\n",
        "</table>"
      ]
    },
    {
      "cell_type": "code",
      "execution_count": null,
      "id": "ad54c3c1",
      "metadata": {
        "pycharm": {
          "name": "#%%\n"
        },
        "id": "ad54c3c1",
        "outputId": "fa2de8af-2b5c-42da-9104-0a2d408561ab"
      },
      "outputs": [
        {
          "data": {
            "text/plain": [
              "True"
            ]
          },
          "execution_count": 135,
          "metadata": {},
          "output_type": "execute_result"
        }
      ],
      "source": [
        "10 < 15"
      ]
    },
    {
      "cell_type": "code",
      "execution_count": null,
      "id": "22cc287c",
      "metadata": {
        "colab": {
          "base_uri": "https://localhost:8080/"
        },
        "id": "22cc287c",
        "outputId": "c49db3c4-4919-4560-96ae-53e7bd69b829",
        "pycharm": {
          "name": "#%%\n"
        }
      },
      "outputs": [
        {
          "output_type": "execute_result",
          "data": {
            "text/plain": [
              "True"
            ]
          },
          "metadata": {},
          "execution_count": 2
        }
      ],
      "source": [
        "1 == 1"
      ]
    },
    {
      "cell_type": "code",
      "execution_count": null,
      "id": "a4f35762",
      "metadata": {
        "colab": {
          "base_uri": "https://localhost:8080/"
        },
        "id": "a4f35762",
        "outputId": "07096d6b-4366-4004-8939-51bd067d0bdf",
        "pycharm": {
          "name": "#%%\n"
        }
      },
      "outputs": [
        {
          "output_type": "stream",
          "name": "stderr",
          "text": [
            "<>:1: SyntaxWarning: \"is not\" with a literal. Did you mean \"!=\"?\n",
            "<>:1: SyntaxWarning: \"is not\" with a literal. Did you mean \"!=\"?\n",
            "<ipython-input-3-f3aa311ec86b>:1: SyntaxWarning: \"is not\" with a literal. Did you mean \"!=\"?\n",
            "  1 is not 'abc'\n"
          ]
        },
        {
          "output_type": "execute_result",
          "data": {
            "text/plain": [
              "True"
            ]
          },
          "metadata": {},
          "execution_count": 3
        }
      ],
      "source": [
        "1 is not 'abc'"
      ]
    },
    {
      "cell_type": "code",
      "execution_count": null,
      "id": "9c2c2371",
      "metadata": {
        "colab": {
          "base_uri": "https://localhost:8080/"
        },
        "id": "9c2c2371",
        "outputId": "f3153375-3493-483f-e6fa-e4723913e93c",
        "pycharm": {
          "name": "#%%\n"
        }
      },
      "outputs": [
        {
          "output_type": "execute_result",
          "data": {
            "text/plain": [
              "1"
            ]
          },
          "metadata": {},
          "execution_count": 4
        }
      ],
      "source": [
        "1 or 1"
      ]
    },
    {
      "cell_type": "markdown",
      "id": "3efe4a65",
      "metadata": {
        "id": "3efe4a65",
        "pycharm": {
          "name": "#%% md\n"
        }
      },
      "source": [
        "# Задание 1\n",
        "\n",
        "Создайте две переменные var_a и var_b. var_a присвойте числовое значение равное длю своего рождения, var_b присвойте значение равное номерну месяца своего значения.\n",
        "Для переменных var_a и var_b выполните все арифметические и логические операции приведенные выше.\n",
        "\n",
        "Пример:\n",
        "\n",
        "```\n",
        "\n",
        "a = 7\n",
        "b = 2\n",
        "\n",
        "print ('Sum: ', a + b)  \n",
        "print ('Subtraction: ', a - b)   \n",
        "print ('Multiplication: ', a * b)  \n",
        "print ('Division: ', a / b)\n",
        "print ('Floor Division: ', a // b)\n",
        "print ('Modulo: ', a % b)  \n",
        "print ('Power: ', a ** b)\n",
        "\n",
        "print((a > 2) and (b >= 6))    # True\n",
        "\n",
        "x = 5\n",
        "y = 8\n",
        "\n",
        "print(\"x == y:\", x == y)\n",
        "print(\"x != y:\", x != y)\n",
        "print(\"x < y:\", x < y)\n",
        "print(\"x > y:\", x > y)\n",
        "print(\"x <= y:\", x <= y)\n",
        "print(\"x >= y:\", x >= y)\n",
        "```"
      ]
    },
    {
      "cell_type": "code",
      "execution_count": null,
      "id": "239e8c83",
      "metadata": {
        "colab": {
          "base_uri": "https://localhost:8080/"
        },
        "id": "239e8c83",
        "outputId": "998a1c8b-4174-441f-da3a-fc899ef62b64"
      },
      "outputs": [
        {
          "output_type": "stream",
          "name": "stdout",
          "text": [
            "Sum:  9\n",
            "Subtraction:  5\n",
            "Multiplication:  14\n",
            "Division:  3.5\n",
            "Floor Division:  3\n",
            "Modulo:  1\n",
            "Power:  49\n",
            "\n",
            "True\n",
            "\n",
            "var_a == var_b: False\n",
            "var_a != var_b: True\n",
            "var_a < var_b: False\n",
            "var_a > var_b: True\n",
            "var_a <= var_b: False\n",
            "var_a >= var_b: True\n"
          ]
        }
      ],
      "source": [
        "# Мой день рождения: 7 февраля\n",
        "\n",
        "var_a = 7\n",
        "var_b = 2\n",
        "\n",
        "print ('Sum: ', var_a + var_b)\n",
        "print ('Subtraction: ', var_a - var_b)\n",
        "print ('Multiplication: ', var_a * var_b)\n",
        "print ('Division: ', var_a / var_b)\n",
        "print ('Floor Division: ', var_a // var_b)\n",
        "print ('Modulo: ', var_a % var_b)\n",
        "print ('Power: ', var_a ** var_b)\n",
        "print()\n",
        "print((var_a > 5) and (var_b >= 1)) # True\n",
        "print()\n",
        "print(\"var_a == var_b:\", var_a == var_b)\n",
        "print(\"var_a != var_b:\", var_a != var_b)\n",
        "print(\"var_a < var_b:\", var_a < var_b)\n",
        "print(\"var_a > var_b:\", var_a > var_b)\n",
        "print(\"var_a <= var_b:\", var_a <= var_b)\n",
        "print(\"var_a >= var_b:\", var_a >= var_b)"
      ]
    },
    {
      "cell_type": "markdown",
      "id": "a3ad7361",
      "metadata": {
        "id": "a3ad7361"
      },
      "source": [
        "# Задание 2\n",
        "\n",
        "Присвойте переменной var_c значение 32.98.\n",
        "\n",
        "Преобразуйте переменную к типам int, float, string и выведите результат на экран. Объясните что получилось в результате преобразования.\n"
      ]
    },
    {
      "cell_type": "code",
      "execution_count": null,
      "id": "9dd12dae",
      "metadata": {
        "colab": {
          "base_uri": "https://localhost:8080/"
        },
        "id": "9dd12dae",
        "outputId": "f0c0db5f-b85b-4d7a-d6d2-7e91fca3b8c2"
      },
      "outputs": [
        {
          "output_type": "stream",
          "name": "stdout",
          "text": [
            "32\n",
            "32.98\n",
            "32.98\n"
          ]
        }
      ],
      "source": [
        "var_c = 32.98\n",
        "\n",
        "print(int(var_c)) # значение var_c приняло тип целого числа\n",
        "print(float(var_c)) # значение var_c приняло тип числа с плавающей точкой\n",
        "print(str(var_c)) # значение var_c приняло тип строковых данных\n"
      ]
    },
    {
      "cell_type": "markdown",
      "id": "79fd6eb3",
      "metadata": {
        "id": "79fd6eb3"
      },
      "source": [
        "# Задание 3\n",
        "\n",
        "1. Дано целое число A. Проверить истинность высказывания: «Число A является положительным».\n",
        "1. Дано целое число A. Проверить истинность высказывания: «Число A является нечетным».\n",
        "3. Дано целое число A. Проверить истинность высказывания: «Число A является четным».\n",
        "4. Даны два целых числа: A, B. Проверить истинность высказывания: «Справедливы неравенства A > 2 и B ≤ 3».\n",
        "5. Даны два целых числа: A, B. Проверить истинность высказывания: «Справедливы неравенства A ≥ 0 или B < –2».\n",
        "6. Даны три целых числа: A, B, C. Проверить истинность высказыва-ния: «Справедливо двойное неравенство A < B < C».\n",
        "7. Даны три целых числа: A, B, C. Проверить истинность высказыва-ния: «Число B находится между числами A и C».\n",
        "\n",
        "Пример решения п. 1\n",
        "\n",
        "```\n",
        "A=-3\n",
        "print(\"Число\",A,\"является положительным\", A>0)\n",
        "```"
      ]
    },
    {
      "cell_type": "code",
      "execution_count": 21,
      "id": "35a8c53e",
      "metadata": {
        "colab": {
          "base_uri": "https://localhost:8080/"
        },
        "id": "35a8c53e",
        "outputId": "f0b29333-bfe3-4b21-8e2a-2008322fbde6"
      },
      "outputs": [
        {
          "output_type": "stream",
          "name": "stdout",
          "text": [
            "Число 22 является положительным: True\n",
            "Число 22 является нечетным: False\n",
            "Число 22 является четным: True\n",
            "Справедливы неравенства 22 > 2 и 4 ≤ 3 : False\n",
            "Справедливы неравенства 22 ≥ 0 или 4 < -2 : True\n",
            "Справедливо двойное неравенство 22 < 4 < -24 : False\n",
            "Число 4 находится между числами 22 и -24 : True\n"
          ]
        }
      ],
      "source": [
        "# для переменных A, B и C возьмем следующие значения:\n",
        "A = 22\n",
        "B = 4\n",
        "C = -24\n",
        "\n",
        "print(\"Число\", A, \"является положительным:\", A > 0)\n",
        "print(\"Число\", A, \"является нечетным:\", A % 2 == 1)\n",
        "print(\"Число\", A, \"является четным:\", A % 2 == 0)\n",
        "print(\"Справедливы неравенства\", A, \"> 2 и\", B, \"≤ 3 :\", A > 2 and B <= 3)\n",
        "print(\"Справедливы неравенства\", A, \"≥ 0 или\", B, \"< -2 :\", A >= 0 or B < -2)\n",
        "print(\"Справедливо двойное неравенство\", A, \"<\", B, \"<\", C, \":\", A < B < C)\n",
        "print(\"Число\", B, \"находится между числами\", A, \"и\", C, \":\", A < B < C or A > B > C)"
      ]
    }
  ],
  "metadata": {
    "kernelspec": {
      "display_name": "Python 3 (ipykernel)",
      "language": "python",
      "name": "python3"
    },
    "language_info": {
      "codemirror_mode": {
        "name": "ipython",
        "version": 3
      },
      "file_extension": ".py",
      "mimetype": "text/x-python",
      "name": "python",
      "nbconvert_exporter": "python",
      "pygments_lexer": "ipython3",
      "version": "3.9.13"
    },
    "colab": {
      "provenance": []
    }
  },
  "nbformat": 4,
  "nbformat_minor": 5
}