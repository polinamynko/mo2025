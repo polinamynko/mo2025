{
  "cells": [
    {
      "cell_type": "markdown",
      "id": "7e74693f",
      "metadata": {
        "id": "7e74693f"
      },
      "source": [
        "# A - Задача на вычисление\n",
        "\n",
        "Спидометр автомобиля показывает скорость в милях в час. Какую скорость (в милях в час) показывает спидометр, если автомобиль движется со скоростью 36км в час? (Считайте, что 1 миля равна 1,6км.)"
      ]
    },
    {
      "cell_type": "markdown",
      "id": "ebfda81b",
      "metadata": {
        "id": "ebfda81b"
      },
      "source": [
        "## Задание\n",
        "\n",
        "Напишите программу на языке Python для решения задачи с использованием переменных."
      ]
    },
    {
      "cell_type": "code",
      "execution_count": null,
      "id": "16838e06",
      "metadata": {
        "colab": {
          "base_uri": "https://localhost:8080/"
        },
        "id": "16838e06",
        "outputId": "dcbdb36b-d553-4b20-fac0-87c7fb413213"
      },
      "outputs": [
        {
          "output_type": "stream",
          "name": "stdout",
          "text": [
            "Скорость автомобиля: 22.5 миль в час\n"
          ]
        }
      ],
      "source": [
        "# 1. Входные данные. Здесь нужно определить переменные для хранения входных данных и присвоить им значения.\n",
        "km_per_hour=36\n",
        "km=1\n",
        "mile=1.6 * km\n",
        "# 2. Обработка данных. Здесь нужно вычислить искомое значение и сохранить его в переменной.\n",
        "miles_per_hour = km_per_hour / mile\n",
        "# 3. Вывод результатов. Здесь нужно вывести вычисленное значение на экран.\n",
        "print(\"Скорость автомобиля:\", miles_per_hour, \"миль в час\")"
      ]
    },
    {
      "cell_type": "markdown",
      "id": "7c565031",
      "metadata": {
        "id": "7c565031"
      },
      "source": [
        "# B - Задача на ввод и вывод\n",
        "\n",
        "Рост человека X футов Y дюймов. Выразите его рост в сантиметрах, если 1 фут равен 12 дюймам. Считайте, что 1 дюйм равен 2,54см. Результат округлите до целого числа сантиметров."
      ]
    },
    {
      "cell_type": "markdown",
      "id": "6e4637f5",
      "metadata": {
        "id": "6e4637f5"
      },
      "source": [
        "## Задание\n",
        "\n",
        "Напишите программу на языке Python для решения задачи с использованием переменных."
      ]
    },
    {
      "cell_type": "code",
      "execution_count": null,
      "id": "64cd2a08",
      "metadata": {
        "colab": {
          "base_uri": "https://localhost:8080/"
        },
        "id": "64cd2a08",
        "outputId": "60c6d119-39a8-45f8-8428-53248e9dd0f2"
      },
      "outputs": [
        {
          "output_type": "stream",
          "name": "stdout",
          "text": [
            "Рост человека X футов Y дюймов.\n",
            "Кол-во футов (X): 3\n",
            "Кол-во дюймов (Y): 42\n",
            "Рост человека: 198 сантиметров.\n"
          ]
        }
      ],
      "source": [
        "# 1. Входные данные. Здесь нужно определить переменные для хранения входных данных и ввести значения с клавиатуры.\n",
        "print(\"Рост человека X футов Y дюймов.\")\n",
        "x=int(input(\"Кол-во футов (X): \"))\n",
        "y=int(input(\"Кол-во дюймов (Y): \"))\n",
        "x_in_inch=x * 12\n",
        "inch_in_sm=2.54\n",
        "# 2. Обработка данных. Здесь нужно вычислить искомое значение и сохранить его в переменной.\n",
        "height=round((x_in_inch + y)* inch_in_sm)\n",
        "# 3. Вывод результатов. Здесь нужно вывести вычисленное значение на экран.\n",
        "print(\"Рост человека:\", height, \"сантиметров.\")"
      ]
    },
    {
      "cell_type": "markdown",
      "id": "3c8f7b5a",
      "metadata": {
        "id": "3c8f7b5a"
      },
      "source": [
        "# C - Задача про Евграфа\n",
        "\n",
        "Евграф увлекается наукой. Он изучает разные дисциплины по дням недели. В понедельник и пятницу он изучает математику, во вторник и субботу химию, в среду и воскресенье физику, а в четверг биологию."
      ]
    },
    {
      "cell_type": "markdown",
      "id": "bd22a6f9",
      "metadata": {
        "id": "bd22a6f9"
      },
      "source": [
        "## Задание\n",
        "\n",
        "Напишите программу на языке Python, которая по введенному дню недели определит дисциплину для изучения Евграфом."
      ]
    },
    {
      "cell_type": "code",
      "execution_count": 2,
      "id": "5fae5344",
      "metadata": {
        "id": "5fae5344",
        "colab": {
          "base_uri": "https://localhost:8080/"
        },
        "outputId": "0120b245-46c4-4242-b416-538c4c1e863e"
      },
      "outputs": [
        {
          "output_type": "stream",
          "name": "stdout",
          "text": [
            "Какой день недели сегодня? суббота\n",
            "Сегодня Евграф изучает химию.\n"
          ]
        }
      ],
      "source": [
        "# 1. Входные данные. Здесь нужно определить переменные для хранения входных данных и ввести значения с клавиатуры.\n",
        "day=input(\"Какой день недели сегодня? \")\n",
        "# 2. Обработка данных. Здесь нужно вычислить искомое значение и сохранить его в переменной.\n",
        "if day == \"Понедельник\" or day == \"Пятница\" or day == \"понедельник\" or day == \"пятница\":\n",
        "  print(\"Сегодня Евграф изучает математику.\")\n",
        "elif day == \"Вторник\" or day == \"Суббота\" or day == \"вторник\" or day == \"суббота\":\n",
        "  print(\"Сегодня Евграф изучает химию.\")\n",
        "elif day == \"Четверг\" or day == \"четверг\":\n",
        "    print(\"Сегодня Евграф изучает биологию.\")\n",
        "else:\n",
        "  print(\"Сегодня Евграф изучает физику.\")\n",
        "# 3. Вывод результатов. Здесь нужно вывести вычисленное значение на экран."
      ]
    },
    {
      "cell_type": "markdown",
      "id": "07fb134f",
      "metadata": {
        "id": "07fb134f"
      },
      "source": [
        "# D - Задача на списки\n",
        "\n",
        "Нужно сформировать список  lst из 20 элементов случайным образом. Элементы списка должны быть в диапазоне [-50;50]. Выведите элементы списка на экран."
      ]
    },
    {
      "cell_type": "code",
      "execution_count": 3,
      "id": "b44673a3",
      "metadata": {
        "id": "b44673a3",
        "colab": {
          "base_uri": "https://localhost:8080/"
        },
        "outputId": "9c288bf4-6eec-4ab6-c7ab-3321e0b24dc0"
      },
      "outputs": [
        {
          "output_type": "stream",
          "name": "stdout",
          "text": [
            "Оригинальный список: [8, -7, -39, 4, 32, 16, -42, 40, 40, 3, 42, 31, -18, -34, 32, -48, 43, -42, 43, -7]\n"
          ]
        }
      ],
      "source": [
        "import random\n",
        "list_1 = [random.randint(-50, 50) for _ in range(20)]\n",
        "print(\"Оригинальный список:\",list_1)"
      ]
    },
    {
      "cell_type": "markdown",
      "id": "493f1529",
      "metadata": {
        "id": "493f1529"
      },
      "source": [
        "#### Задание 1: Найдите длину списка"
      ]
    },
    {
      "cell_type": "code",
      "execution_count": 4,
      "id": "3e5bae67",
      "metadata": {
        "id": "3e5bae67",
        "colab": {
          "base_uri": "https://localhost:8080/"
        },
        "outputId": "effe54dd-81bf-4028-fb63-27e6513fa754"
      },
      "outputs": [
        {
          "output_type": "stream",
          "name": "stdout",
          "text": [
            "Список: [8, -7, -39, 4, 32, 16, -42, 40, 40, 3, 42, 31, -18, -34, 32, -48, 43, -42, 43, -7]\n",
            "Длина списка: 20\n"
          ]
        }
      ],
      "source": [
        "print(\"Список:\", list_1)    # Вывод списка\n",
        "length = len(list_1)    # Нахождение длины списка\n",
        "print(\"Длина списка:\", length)"
      ]
    },
    {
      "cell_type": "markdown",
      "id": "8b31729f",
      "metadata": {
        "id": "8b31729f"
      },
      "source": [
        "#### Задание 2: Найдите максимальный и минимальный элемент списка"
      ]
    },
    {
      "cell_type": "code",
      "execution_count": 5,
      "id": "fd7c35ee",
      "metadata": {
        "id": "fd7c35ee",
        "colab": {
          "base_uri": "https://localhost:8080/"
        },
        "outputId": "24e35e5a-34b1-460f-ecb6-2574b89766bb"
      },
      "outputs": [
        {
          "output_type": "stream",
          "name": "stdout",
          "text": [
            "Максимальный элемент: 43\n",
            "Минимальный элемент: -48\n"
          ]
        }
      ],
      "source": [
        "# Инициализация переменных для максимального и минимального значений\n",
        "max_element=list_1[0]\n",
        "min_element=list_1[0]\n",
        "# Поиск максимального и минимального элементов\n",
        "for num in list_1:\n",
        "    if num > max_element:\n",
        "        max_element = num\n",
        "    if num < min_element:\n",
        "        min_element = num\n",
        "print(\"Максимальный элемент:\", max_element)\n",
        "print(\"Минимальный элемент:\", min_element)"
      ]
    },
    {
      "cell_type": "markdown",
      "id": "b0d5e2b8",
      "metadata": {
        "id": "b0d5e2b8"
      },
      "source": [
        "#### Задание 3: Выведите список в обратном порядке"
      ]
    },
    {
      "cell_type": "code",
      "execution_count": 6,
      "id": "83571117",
      "metadata": {
        "id": "83571117",
        "colab": {
          "base_uri": "https://localhost:8080/"
        },
        "outputId": "1e3e97fc-8c72-4fa7-f0fa-0baf9190bf6e"
      },
      "outputs": [
        {
          "output_type": "stream",
          "name": "stdout",
          "text": [
            "Оригинальный список: [8, -7, -39, 4, 32, 16, -42, 40, 40, 3, 42, 31, -18, -34, 32, -48, 43, -42, 43, -7]\n",
            "Список в обратном порядке: [-7, 43, -42, 43, -48, 32, -34, -18, 31, 42, 3, 40, 40, -42, 16, 32, 4, -39, -7, 8]\n"
          ]
        }
      ],
      "source": [
        "print(\"Оригинальный список:\", list_1)    # Вывод оригинального списка\n",
        "list_1.reverse()\n",
        "print(\"Список в обратном порядке:\", list_1) # Вывод списка в обратном порядке"
      ]
    },
    {
      "cell_type": "markdown",
      "id": "d7e4f7d8",
      "metadata": {
        "id": "d7e4f7d8"
      },
      "source": [
        "#### Задание 4: Создайте копию списка в переменной mlst и отсортируйте список mlst по возрастанию"
      ]
    },
    {
      "cell_type": "code",
      "execution_count": 9,
      "id": "b0b1d246",
      "metadata": {
        "id": "b0b1d246",
        "colab": {
          "base_uri": "https://localhost:8080/"
        },
        "outputId": "13f71925-b451-41cc-8d59-58fda1984f6c"
      },
      "outputs": [
        {
          "output_type": "stream",
          "name": "stdout",
          "text": [
            "Оригинальный список: [-7, 43, -42, 43, -48, 32, -34, -18, 31, 42, 3, 40, 40, -42, 16, 32, 4, -39, -7, 8]\n",
            "Отсортированный список mlst: [-48, -42, -42, -39, -34, -18, -7, -7, 3, 4, 8, 16, 31, 32, 32, 40, 40, 42, 43, 43]\n"
          ]
        }
      ],
      "source": [
        "print(\"Оригинальный список:\", list_1)    # Вывод оригинального списка\n",
        "mlst = list_1.copy()    # Создание копии списка\n",
        "mlst.sort()\n",
        "print(\"Отсортированный список mlst:\", mlst)"
      ]
    },
    {
      "cell_type": "markdown",
      "id": "08836188",
      "metadata": {
        "id": "08836188"
      },
      "source": [
        "#### Задание 5: Дано число K=7: Поменяйте местами элементы списка с номерами 0 и K"
      ]
    },
    {
      "cell_type": "code",
      "execution_count": 12,
      "id": "6d600548",
      "metadata": {
        "id": "6d600548",
        "colab": {
          "base_uri": "https://localhost:8080/"
        },
        "outputId": "adfe860d-2472-4dbb-8890-26e036aa4ab1"
      },
      "outputs": [
        {
          "output_type": "stream",
          "name": "stdout",
          "text": [
            "Список после замены элементов с индексами 0 и 7 : [-7, -42, -42, -39, -34, -18, -7, -48, 3, 4, 8, 16, 31, 32, 32, 40, 40, 42, 43, 43]\n"
          ]
        }
      ],
      "source": [
        "K=7    # Задаем K\n",
        "mlst[0], mlst[K] = mlst[K], mlst[0]    # Меняем местами элементы с индексами 0 и K\n",
        "print(\"Список после замены элементов с индексами 0 и\", K, \":\", mlst)    # Вывод списка после замены"
      ]
    },
    {
      "cell_type": "markdown",
      "id": "2618d94a",
      "metadata": {
        "id": "2618d94a"
      },
      "source": [
        "#### Задание 6: Найдите произведение элементов спискаНайдите среднее арифметическое элементов списка"
      ]
    },
    {
      "cell_type": "code",
      "execution_count": 14,
      "id": "51093508",
      "metadata": {
        "id": "51093508",
        "colab": {
          "base_uri": "https://localhost:8080/"
        },
        "outputId": "c58d0d31-015f-4b4b-94f0-1404067cc647"
      },
      "outputs": [
        {
          "output_type": "stream",
          "name": "stdout",
          "text": [
            "Произведение элементов списка: 599944363886380288101580800\n",
            "Среднее арифметическое элементов списка: 4.85\n"
          ]
        }
      ],
      "source": [
        "all_elements=1    # Нахождение произведения элементов списка, присуждается значение 1, а не 0, чтобы не \"обнулить\"\n",
        "for num in list_1:\n",
        "    all_elements *= num\n",
        "print(\"Произведение элементов списка:\", all_elements)    # Вывод произведения\n",
        "total_sum = sum(list_1)    # Нахождение суммы элементов списка\n",
        "count = len(list_1)    # Нахождение количества элементов в списке\n",
        "average = total_sum / count    # Нахождение среднего арифметического\n",
        "print(\"Среднее арифметическое элементов списка:\", average)    # Вывод среднего арифметического"
      ]
    },
    {
      "cell_type": "markdown",
      "id": "7d0639e2",
      "metadata": {
        "id": "7d0639e2"
      },
      "source": [
        "#### Задание 7: Найдите среднее арифметическое четных элементов списка"
      ]
    },
    {
      "cell_type": "code",
      "execution_count": 15,
      "id": "1e88d97f",
      "metadata": {
        "id": "1e88d97f",
        "colab": {
          "base_uri": "https://localhost:8080/"
        },
        "outputId": "f4e0eaa4-f794-43bd-a998-b861f60523e2"
      },
      "outputs": [
        {
          "output_type": "stream",
          "name": "stdout",
          "text": [
            "Среднее арифметическое четных элементов списка: 2.3076923076923075\n"
          ]
        }
      ],
      "source": [
        "even_numbers = [num for num in list_1 if num % 2 == 0]    # Выделение четных элементов в списке\n",
        "total_sum = sum(even_numbers)    # Нахождение суммы четных элементов\n",
        "count = len(even_numbers)    # Нахождение количества четных элементов\n",
        "# Нахождение среднего арифметического четных элементов\n",
        "average2 = total_sum / count if count > 0 else 0  # Проверка на случай, если нет четных элементов\n",
        "print(\"Среднее арифметическое четных элементов списка:\", average2)    # Вывод среднего арифметического четных элементов"
      ]
    },
    {
      "cell_type": "markdown",
      "id": "78bad27b",
      "metadata": {
        "id": "78bad27b"
      },
      "source": [
        "# E - Задача на строки\n",
        "\n",
        "Пользователь вводит с клавиатуры строку."
      ]
    },
    {
      "cell_type": "code",
      "execution_count": 2,
      "id": "dc1f6b93",
      "metadata": {
        "id": "dc1f6b93",
        "colab": {
          "base_uri": "https://localhost:8080/"
        },
        "outputId": "ee1c9676-c78f-43c8-e18f-fb91a45d4c40"
      },
      "outputs": [
        {
          "name": "stdout",
          "output_type": "stream",
          "text": [
            "Введите строку: Ghbdt ghbdt ghbdt\n"
          ]
        }
      ],
      "source": [
        "sentence=input(\"Введите строку: \")"
      ]
    },
    {
      "cell_type": "markdown",
      "id": "a2d8d989",
      "metadata": {
        "id": "a2d8d989"
      },
      "source": [
        "#### Задание 1: Найдите длину строки"
      ]
    },
    {
      "cell_type": "code",
      "execution_count": 3,
      "id": "70b408ef",
      "metadata": {
        "id": "70b408ef",
        "colab": {
          "base_uri": "https://localhost:8080/"
        },
        "outputId": "8b698a88-f618-41b4-9691-2403e0abacd3"
      },
      "outputs": [
        {
          "output_type": "stream",
          "name": "stdout",
          "text": [
            "Длина строки: 17\n"
          ]
        }
      ],
      "source": [
        "length_of_sentence = len(sentence)\n",
        "print(\"Длина строки:\", length_of_sentence)"
      ]
    },
    {
      "cell_type": "markdown",
      "id": "3b6ade82",
      "metadata": {
        "id": "3b6ade82"
      },
      "source": [
        "#### Задание 2: Найдите количество пробелов в строке"
      ]
    },
    {
      "cell_type": "code",
      "execution_count": 4,
      "id": "b371afcf",
      "metadata": {
        "id": "b371afcf",
        "colab": {
          "base_uri": "https://localhost:8080/"
        },
        "outputId": "fdccfdd6-3bba-4ef5-b89a-8059946e10a4"
      },
      "outputs": [
        {
          "output_type": "stream",
          "name": "stdout",
          "text": [
            "Количество пробелов в строке: 2\n"
          ]
        }
      ],
      "source": [
        "space_count = sentence.count(\" \")\n",
        "print(\"Количество пробелов в строке:\", space_count)"
      ]
    },
    {
      "cell_type": "markdown",
      "id": "9878fab9",
      "metadata": {
        "id": "9878fab9"
      },
      "source": [
        "#### Задание 3: Выведите строку в обратном порядке"
      ]
    },
    {
      "cell_type": "code",
      "execution_count": 5,
      "id": "012d1caa",
      "metadata": {
        "id": "012d1caa",
        "colab": {
          "base_uri": "https://localhost:8080/"
        },
        "outputId": "18f9c96c-ad91-4ccc-bdca-c71ad9b7820f"
      },
      "outputs": [
        {
          "output_type": "stream",
          "name": "stdout",
          "text": [
            "Строка в обратном порядке: tdbhg tdbhg tdbhG\n"
          ]
        }
      ],
      "source": [
        "sentence_reversed = sentence[::-1]\n",
        "print(\"Строка в обратном порядке:\", sentence_reversed)"
      ]
    },
    {
      "cell_type": "markdown",
      "id": "17497dd6",
      "metadata": {
        "id": "17497dd6"
      },
      "source": [
        "#### Задание 4: Выведите всю строку, кроме первых двух символов"
      ]
    },
    {
      "cell_type": "code",
      "execution_count": 6,
      "id": "1c462c8d",
      "metadata": {
        "id": "1c462c8d",
        "colab": {
          "base_uri": "https://localhost:8080/"
        },
        "outputId": "7af9c3bc-72ea-4fef-b508-7a05553627d3"
      },
      "outputs": [
        {
          "output_type": "stream",
          "name": "stdout",
          "text": [
            "Строка без первых двух символов: bdt ghbdt ghbdt\n"
          ]
        }
      ],
      "source": [
        "sentence_from_2 = sentence[2:]\n",
        "print(\"Строка без первых двух символов:\", sentence_from_2)"
      ]
    },
    {
      "cell_type": "markdown",
      "id": "b0b40c42",
      "metadata": {
        "id": "b0b40c42"
      },
      "source": [
        "#### Задание 5: Выведите предпоследний символ этой строки"
      ]
    },
    {
      "cell_type": "code",
      "execution_count": 7,
      "id": "9545490d",
      "metadata": {
        "id": "9545490d",
        "colab": {
          "base_uri": "https://localhost:8080/"
        },
        "outputId": "4e223402-1808-4c63-fff2-05778298ea4d"
      },
      "outputs": [
        {
          "output_type": "stream",
          "name": "stdout",
          "text": [
            "Предпоследний символ строки: d\n"
          ]
        }
      ],
      "source": [
        "if length_of_sentence >= 2:    # Проверка на то, что строка содержит как минимум два символа\n",
        "    sentence_symbol = sentence[-2]\n",
        "    print(\"Предпоследний символ строки:\", sentence_symbol)\n",
        "else:\n",
        "    print(\"Строка слишком короткая, чтобы иметь предпоследний символ.\")"
      ]
    },
    {
      "cell_type": "markdown",
      "id": "faea27be",
      "metadata": {
        "id": "faea27be"
      },
      "source": [
        "#### Задание 6: Найдите количество слов в строке (слово это последовательность непробельных символов)"
      ]
    },
    {
      "cell_type": "code",
      "execution_count": 8,
      "id": "9672815e",
      "metadata": {
        "id": "9672815e",
        "colab": {
          "base_uri": "https://localhost:8080/"
        },
        "outputId": "f6c03431-d29a-4f14-eb16-35c83e1d06e8"
      },
      "outputs": [
        {
          "output_type": "stream",
          "name": "stdout",
          "text": [
            "Количество слов в строке: 3\n"
          ]
        }
      ],
      "source": [
        "s = \" \" + sentence\n",
        "word_count = 0\n",
        "for w in range(len(s)-1):\n",
        "  if s[w]==\" \" and s[w+1]!=\" \":\n",
        "    word_count += 1\n",
        "print(\"Количество слов в строке:\", word_count)"
      ]
    },
    {
      "cell_type": "markdown",
      "id": "09b115d8",
      "metadata": {
        "id": "09b115d8"
      },
      "source": [
        "#### Задание 7: Разделите строку на части используя пробел как разделитель и сохраните результат в списке slst"
      ]
    },
    {
      "cell_type": "code",
      "execution_count": 9,
      "id": "4d24603d",
      "metadata": {
        "id": "4d24603d",
        "colab": {
          "base_uri": "https://localhost:8080/"
        },
        "outputId": "2c56e4c3-b5f7-44db-a05f-527484b7f283"
      },
      "outputs": [
        {
          "output_type": "stream",
          "name": "stdout",
          "text": [
            "['Ghbdt', 'ghbdt', 'ghbdt']\n"
          ]
        }
      ],
      "source": [
        "slst = []\n",
        "current_word = \"\"\n",
        "for i in sentence:\n",
        "    if i != \" \":  # Если символ не пробел\n",
        "        current_word += i # Добавляем символ к текущему слову\n",
        "    else:\n",
        "        if current_word:  # Если текущее слово не пустое\n",
        "            slst.append(current_word)  # Добавляем его в список\n",
        "            current_word = \"\"  # Сбрасываем текущее слово\n",
        "if current_word:\n",
        "    slst.append(current_word)\n",
        "print(slst)"
      ]
    },
    {
      "cell_type": "markdown",
      "id": "cd75a7ef",
      "metadata": {
        "id": "cd75a7ef"
      },
      "source": [
        "#### Задание 8: Пользователь вводит с клавиатуры символ. Его нужно сохранить в переменной С: Замените все вхождения символа на *"
      ]
    },
    {
      "cell_type": "code",
      "execution_count": 10,
      "id": "94236e2b",
      "metadata": {
        "id": "94236e2b",
        "colab": {
          "base_uri": "https://localhost:8080/"
        },
        "outputId": "e252f964-dfd7-4820-b4a3-08e12a910dba"
      },
      "outputs": [
        {
          "output_type": "stream",
          "name": "stdout",
          "text": [
            "Введите символ для замены: h\n",
            "G*bdt g*bdt g*bdt\n"
          ]
        }
      ],
      "source": [
        "C = input(\"Введите символ для замены: \")\n",
        "result = \"\"\n",
        "for k in sentence:\n",
        "    if k == C:  # Если символ совпадает с C\n",
        "        result += '*'  # Заменяем на '*'\n",
        "    else:\n",
        "        result += k  # Иначе добавляем оригинальный символ\n",
        "print(result)"
      ]
    },
    {
      "cell_type": "markdown",
      "id": "f8dd27be",
      "metadata": {
        "id": "f8dd27be"
      },
      "source": [
        "#### Задание 9: Определите есть ли в строке цифра 7"
      ]
    },
    {
      "cell_type": "code",
      "execution_count": 11,
      "id": "21df189a",
      "metadata": {
        "id": "21df189a",
        "colab": {
          "base_uri": "https://localhost:8080/"
        },
        "outputId": "be0309d5-9fe6-4ce5-f1f4-2db5dd881532"
      },
      "outputs": [
        {
          "output_type": "stream",
          "name": "stdout",
          "text": [
            "Цифра 7 отсутствует в строке.\n"
          ]
        }
      ],
      "source": [
        "if \"7\" in sentence:\n",
        "    print(\"Цифра 7 присутствует в строке.\")\n",
        "else:\n",
        "    print(\"Цифра 7 отсутствует в строке.\")"
      ]
    },
    {
      "cell_type": "markdown",
      "id": "7ece009c",
      "metadata": {
        "id": "7ece009c"
      },
      "source": [
        "#### Задание 10: Найдите количество слов в строке, которые начинаются на g"
      ]
    },
    {
      "cell_type": "code",
      "execution_count": 13,
      "id": "50347685",
      "metadata": {
        "id": "50347685",
        "colab": {
          "base_uri": "https://localhost:8080/"
        },
        "outputId": "d6b6eb71-82e7-4c64-c358-1594e8f53ea0"
      },
      "outputs": [
        {
          "output_type": "stream",
          "name": "stdout",
          "text": [
            "Количество слов, начинающихся на 'g': 3\n"
          ]
        }
      ],
      "source": [
        "def count_words_starting_with_g(slst):\n",
        "    g_words = [word for word in slst if word.lower().startswith('g')]    # Фильтруем слова, которые начинаются на 'g' или 'G'\n",
        "    return len(g_words)    # Возвращаем количество таких слов\n",
        "count = count_words_starting_with_g(slst)\n",
        "print(\"Количество слов, начинающихся на 'g':\", count)"
      ]
    }
  ],
  "metadata": {
    "colab": {
      "provenance": []
    },
    "language_info": {
      "name": "python"
    },
    "kernelspec": {
      "name": "python3",
      "display_name": "Python 3"
    }
  },
  "nbformat": 4,
  "nbformat_minor": 5
}